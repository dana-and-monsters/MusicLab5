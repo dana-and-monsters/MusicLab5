{
 "cells": [
  {
   "cell_type": "markdown",
   "metadata": {},
   "source": [
    "# MusicLab Notebook for Data Jockeying "
   ]
  },
  {
   "cell_type": "markdown",
   "metadata": {},
   "source": [
    "## 1. Importing libraries"
   ]
  },
  {
   "cell_type": "code",
   "execution_count": null,
   "metadata": {},
   "outputs": [],
   "source": [
    "import os, fnmatch\n",
    "import numpy as np\n",
    "import pandas as pd\n",
    "import matplotlib.pyplot as plt\n",
    "%matplotlib inline"
   ]
  },
  {
   "cell_type": "code",
   "execution_count": null,
   "metadata": {},
   "outputs": [],
   "source": [
    "import matplotlib as mpl\n",
    "mpl.rc('xtick', labelsize=14)     \n",
    "mpl.rc('ytick', labelsize=14)\n",
    "mpl.rcParams['font.size'] = 15\n",
    "mpl.rcParams['legend.fontsize'] = 20\n",
    "mpl.rcParams['figure.titlesize'] = 16"
   ]
  },
  {
   "cell_type": "markdown",
   "metadata": {},
   "source": [
    "## 2. Directory management"
   ]
  },
  {
   "cell_type": "code",
   "execution_count": null,
   "metadata": {},
   "outputs": [],
   "source": [
    "path = '/Users/cagrierdem/Desktop/dev/MusicLab/gig/20200710/'\n",
    "datasets = ['data ('+str(nr)+')' for nr in range(0,13)]"
   ]
  },
  {
   "cell_type": "code",
   "execution_count": null,
   "metadata": {},
   "outputs": [],
   "source": [
    "def ffind(pattern, path):\n",
    "    result=[]\n",
    "    for root, dirs, files in os.walk(path):\n",
    "        for name in files:\n",
    "            if fnmatch.fnmatch(name, pattern):\n",
    "                result.append(os.path.join(root, name))\n",
    "    return result"
   ]
  },
  {
   "cell_type": "code",
   "execution_count": null,
   "metadata": {},
   "outputs": [],
   "source": [
    "for dat in ffind('*.csv', os.path.join(path, datasets[0])):\n",
    "    if 'Motion' in dat:\n",
    "        print('IMU √')\n",
    "        motion_dat = dat\n",
    "    elif 'geo' in dat:\n",
    "        print('Geo √')\n",
    "        geo_dat = dat"
   ]
  },
  {
   "cell_type": "markdown",
   "metadata": {},
   "source": [
    "## 3. Reading & writing data into Pandas Dataframe"
   ]
  },
  {
   "cell_type": "code",
   "execution_count": null,
   "metadata": {},
   "outputs": [],
   "source": [
    "df_motion = pd.read_csv(motion_dat, index_col=1)\n",
    "df_motion.head(3)"
   ]
  },
  {
   "cell_type": "markdown",
   "metadata": {},
   "source": [
    "![](app-imu.png)"
   ]
  },
  {
   "cell_type": "code",
   "execution_count": null,
   "metadata": {},
   "outputs": [],
   "source": [
    "df_motion.iloc[:, 1:4].plot(figsize=(24,3))"
   ]
  },
  {
   "cell_type": "code",
   "execution_count": null,
   "metadata": {},
   "outputs": [],
   "source": [
    "# First let's define the cut point. Let's say 100000"
   ]
  },
  {
   "cell_type": "code",
   "execution_count": null,
   "metadata": {},
   "outputs": [],
   "source": [
    "#Then find the right index point\n",
    "cut_point = (np.abs(df_motion.index-100000)).argmin()\n",
    "cut_point"
   ]
  },
  {
   "cell_type": "code",
   "execution_count": null,
   "metadata": {},
   "outputs": [],
   "source": [
    "#And cut the beginning & store it in a new variable for more flexibility\n",
    "df_motion_edt  = df_motion.iloc[cut_point:, :]"
   ]
  },
  {
   "cell_type": "markdown",
   "metadata": {},
   "source": [
    "##### We need to convert epoch to human-readable datetime:"
   ]
  },
  {
   "cell_type": "code",
   "execution_count": null,
   "metadata": {},
   "outputs": [],
   "source": [
    "df_motion.timestamp = pd.to_datetime(df_motion.timestamp, unit='ms')\n",
    "df_motion.head(3)"
   ]
  },
  {
   "cell_type": "code",
   "execution_count": null,
   "metadata": {},
   "outputs": [],
   "source": [
    "duration = (df_motion.index[-1] - df_motion.index[0]) / 1000 / 60\n",
    "duration"
   ]
  },
  {
   "cell_type": "code",
   "execution_count": null,
   "metadata": {},
   "outputs": [],
   "source": [
    "freq = int(round(1 / np.mean(np.diff(df_motion.index)), 3) * 1000)\n",
    "print('sr:', freq, 'Hz')"
   ]
  },
  {
   "cell_type": "code",
   "execution_count": null,
   "metadata": {},
   "outputs": [],
   "source": [
    "time = np.linspace(0, len(df_motion)/freq, len(df_motion))"
   ]
  },
  {
   "cell_type": "code",
   "execution_count": null,
   "metadata": {},
   "outputs": [],
   "source": [
    "#Raw acc data"
   ]
  },
  {
   "cell_type": "code",
   "execution_count": null,
   "metadata": {},
   "outputs": [],
   "source": [
    "df_motion.iloc[:, 1:4].plot(figsize=(24,5))"
   ]
  },
  {
   "cell_type": "code",
   "execution_count": null,
   "metadata": {},
   "outputs": [],
   "source": [
    "#Raw gyro data"
   ]
  },
  {
   "cell_type": "code",
   "execution_count": null,
   "metadata": {},
   "outputs": [],
   "source": [
    "df_motion.iloc[:, 4:].plot(figsize=(24,5))"
   ]
  },
  {
   "cell_type": "markdown",
   "metadata": {},
   "source": [
    "## 4. Pre-processing the data\n",
    "### 4.1. Filtering\n",
    "##### e.g. 4th order, zero-phase IIR lowpass or bandpass filter"
   ]
  },
  {
   "cell_type": "code",
   "execution_count": null,
   "metadata": {},
   "outputs": [],
   "source": [
    "from scipy.signal import butter, lfilter\n",
    "\n",
    "def butter_filt(data, lowcut, highcut, fs, order=4, btype='band'):\n",
    "    nyq = fs / 2\n",
    "    b, a = butter(order, [lowcut/nyq, highcut/nyq], btype=btype)\n",
    "    y = lfilter(b, a, data)\n",
    "    return y"
   ]
  },
  {
   "cell_type": "code",
   "execution_count": null,
   "metadata": {},
   "outputs": [],
   "source": [
    "columns = list(df_motion.iloc[:, 1:4])\n",
    "filtered=[]\n",
    "for col in columns:\n",
    "    filt = butter_filt(df_motion[col], 1, 10, fs=freq, order=4)\n",
    "    filtered.append(filt)"
   ]
  },
  {
   "cell_type": "markdown",
   "metadata": {},
   "source": [
    "### 4.2. Normalization"
   ]
  },
  {
   "cell_type": "code",
   "execution_count": null,
   "metadata": {},
   "outputs": [],
   "source": [
    "def normalize(y, min_val=0):\n",
    "    max_value = max(y)\n",
    "    min_value = min(y)\n",
    "    k = []\n",
    "    for i in range(0, len(y)):\n",
    "        if min_val == 0:\n",
    "            k.append((y[i] - min_value) / (max_value - min_value))\n",
    "        elif min_val == -1:\n",
    "            k.append( 2*(y[i] - min_value) / (max_value - min_value)-1 )\n",
    "    return np.array(k)"
   ]
  },
  {
   "cell_type": "code",
   "execution_count": null,
   "metadata": {},
   "outputs": [],
   "source": [
    "filtnorm=[]\n",
    "for ax in filtered:\n",
    "    norm = normalize(ax, min_val=-1)\n",
    "    filtnorm.append(norm)"
   ]
  },
  {
   "cell_type": "code",
   "execution_count": null,
   "metadata": {},
   "outputs": [],
   "source": [
    "fig, ax = plt.subplots(nrows=3, ncols=1, figsize=(16,7))\n",
    "labels = ['X', 'Y', 'Z']\n",
    "colors = ['r', 'g', 'b']\n",
    "\n",
    "for anr in range(3):\n",
    "    ax[anr].plot(time, filtnorm[anr], label=labels[anr], linewidth=0.5, color=colors[anr], alpha=0.5)\n",
    "    ax[anr].legend(loc='lower right', fontsize=14)\n",
    "ax[0].set_title('Lateral - side to side')\n",
    "ax[1].set_title('Vertical - up down')\n",
    "ax[2].set_title('Frontal - forwards backwards')\n",
    "\n",
    "fig.subplots_adjust(hspace=0.5)"
   ]
  },
  {
   "cell_type": "markdown",
   "metadata": {},
   "source": [
    "## 5. Feature Extraction\n",
    "### 5.1. Quantity of Motion (QoM)"
   ]
  },
  {
   "cell_type": "code",
   "execution_count": null,
   "metadata": {},
   "outputs": [],
   "source": [
    "def qom(time, x, y, z):\n",
    "    qom=[]\n",
    "    for i in range(len(time)-1):\n",
    "        id1 = sum((x[i],y[i],z[i]))\n",
    "        id2 = sum((x[i+1],y[i+1],z[i+1]))\n",
    "        diff = abs(id2-id1)\n",
    "        qom.append(diff)\n",
    "    return qom\n",
    "\n",
    "#Note that this function can be written more elegantly"
   ]
  },
  {
   "cell_type": "code",
   "execution_count": null,
   "metadata": {},
   "outputs": [],
   "source": [
    "#Filter QoM for a better representation\n",
    "from scipy.signal import savgol_filter as savgol\n",
    "\n",
    "#normalized QoM:\n",
    "qom_n = normalize(qom(time,filtnorm[0],filtnorm[1],filtnorm[2])) \n",
    "\n",
    "# normalized (filtered) QoM trend:\n",
    "qom_filt_order = 1\n",
    "qom_win = 1999 #reduce for more resolution\n",
    "qom_fn = normalize(savgol(qom(time,filtnorm[0],filtnorm[1],filtnorm[2]), qom_win, qom_filt_order)) \n",
    "                                                                \n",
    "\n",
    "def plot_qoms(qom_n, qom_fn, fontsize=15):\n",
    "\n",
    "    plt.figure(figsize=(24,7))\n",
    "    plt.plot(time[:-1], qom_n, alpha=0.2, color='r', label='QoM')\n",
    "    plt.plot(time[:-1], qom_fn, alpha=0.7, color='b', label='QoM Trend')\n",
    "    plt.xticks(fontsize=15)\n",
    "    plt.xlabel('Time (s)',fontsize=fontsize)\n",
    "    plt.yticks(fontsize=15)\n",
    "    plt.ylabel('Amplitude',fontsize=fontsize)\n",
    "    plt.legend(loc='upper right', fontsize=fontsize)"
   ]
  },
  {
   "cell_type": "code",
   "execution_count": null,
   "metadata": {},
   "outputs": [],
   "source": [
    "plot_qoms(qom_n, qom_fn)"
   ]
  },
  {
   "cell_type": "code",
   "execution_count": null,
   "metadata": {},
   "outputs": [],
   "source": [
    "# Planar acceleration\n",
    "\n",
    "fig, ax = plt.subplots(nrows=1, ncols=3, figsize=(16,7))\n",
    "\n",
    "ax[0].plot(filtnorm[1], filtnorm[2], color='red', alpha=0.3, label='YZ')\n",
    "ax[1].plot(filtnorm[0], filtnorm[2], color='blue', alpha=0.3, label='XZ')\n",
    "ax[2].plot(filtnorm[0], filtnorm[1], color='green', alpha=0.3, label='XY')\n",
    "\n",
    "[ax[n].legend(loc='upper right') for n in range(3)]\n",
    "\n",
    "fig.subplots_adjust(wspace=.5)"
   ]
  },
  {
   "cell_type": "markdown",
   "metadata": {},
   "source": [
    "### 5.2. Motion peaks"
   ]
  },
  {
   "cell_type": "code",
   "execution_count": null,
   "metadata": {},
   "outputs": [],
   "source": [
    "import sensormotion as sm\n",
    "\n",
    "def avg(axes_list):\n",
    "    return np.sum([axes_list[0], axes_list[1], axes_list[2]], axis=0) / 3\n",
    "\n",
    "peak_times, peak_values = sm.peak.find_peaks(time=time, signal=avg(filtnorm), peak_type='valley',\n",
    "                                             min_val=0.6, min_dist=freq//2, \n",
    "                                             plot=True, fig_size=(24,5))"
   ]
  },
  {
   "cell_type": "markdown",
   "metadata": {},
   "source": [
    "### 5.3. Periodograms"
   ]
  },
  {
   "cell_type": "code",
   "execution_count": null,
   "metadata": {},
   "outputs": [],
   "source": [
    "#Note: Also try zero-crossings and autocorrelation"
   ]
  },
  {
   "cell_type": "code",
   "execution_count": null,
   "metadata": {},
   "outputs": [],
   "source": [
    "from scipy import signal\n",
    "\n",
    "periodograms=[]\n",
    "for i in range(3):\n",
    "    f, Pxx = signal.periodogram(filtnorm[i], fs=freq, window='hanning', scaling='spectrum')\n",
    "    periodograms.append((f,Pxx))"
   ]
  },
  {
   "cell_type": "code",
   "execution_count": null,
   "metadata": {},
   "outputs": [],
   "source": [
    "def plot_periods(periodogramz):\n",
    "    fig, ax = plt.subplots(nrows=1, ncols=3, figsize=(16,7))\n",
    "    colors = ['r','g', 'b']\n",
    "    for idx,(f,Pxx) in enumerate(periodogramz):\n",
    "        \n",
    "        ax[idx].plot(f, Pxx, color=colors[idx], alpha=0.4)\n",
    "        ax[idx].set_yscale('log') #Comment out for linear scale\n",
    "        ax[idx].set_xlabel('Frequency (Hz)')\n",
    "        ax[0].set_ylabel('Spectrum Amplitude')\n",
    "          \n",
    "    fig.subplots_adjust(wspace=.5)"
   ]
  },
  {
   "cell_type": "code",
   "execution_count": null,
   "metadata": {},
   "outputs": [],
   "source": [
    "plot_periods(periodograms)"
   ]
  },
  {
   "cell_type": "code",
   "execution_count": null,
   "metadata": {},
   "outputs": [],
   "source": [
    "def top_periods(f, Pxx):\n",
    "    '''f=[sample frequencies]; Pxx=[power spectrum of x]'''\n",
    "    tops={}\n",
    "    top_fq_indices = np.flip(np.argsort(Pxx), 0)[0:3]\n",
    "    freqs = f[top_fq_indices]\n",
    "    power = Pxx[top_fq_indices]\n",
    "    periods = 1 / np.array(freqs)\n",
    "    \n",
    "    for i in range(1,4):\n",
    "        tops['Period_{} (secs)'.format(i)] = round(periods[i-1], 2)\n",
    "        tops['Freq_{} (Hz)'.format(i)] = round(freqs[i-1], 3)\n",
    "        tops['Tempo_{} (BPM)'.format(i)] = round(freqs[i-1]*60, 2)\n",
    "        tops['Power_{} (A)'.format(i)] = format(power[i-1], 'f')\n",
    "        \n",
    "    return tops"
   ]
  },
  {
   "cell_type": "code",
   "execution_count": null,
   "metadata": {},
   "outputs": [],
   "source": [
    "x_periods = top_periods(periodograms[0][0], periodograms[0][1])\n",
    "y_periods = top_periods(periodograms[1][0], periodograms[1][1])\n",
    "z_periods = top_periods(periodograms[2][0], periodograms[2][1])"
   ]
  },
  {
   "cell_type": "code",
   "execution_count": null,
   "metadata": {},
   "outputs": [],
   "source": [
    "z_periods"
   ]
  },
  {
   "cell_type": "markdown",
   "metadata": {},
   "source": [
    "## 6. Audio"
   ]
  },
  {
   "cell_type": "code",
   "execution_count": null,
   "metadata": {},
   "outputs": [],
   "source": [
    "import librosa\n",
    "from librosa import display\n",
    "import IPython.display as ipd\n",
    "\n",
    "sound, sr = librosa.load(os.path.join(path, 'data (0)/renick.wav'), duration=duration*60, sr=44100)\n",
    "ipd.Audio(sound, rate=sr)"
   ]
  },
  {
   "cell_type": "markdown",
   "metadata": {},
   "source": [
    "### 6.1. Source separation\n",
    "### 6.2. Onset detection\n",
    "### 6.3. Tempo tracking"
   ]
  },
  {
   "cell_type": "code",
   "execution_count": null,
   "metadata": {},
   "outputs": [],
   "source": [
    "# Notes: Here I detect onset based on the decomposed percussive components. BUT, also use non-decomposed signal. \n",
    "# The outcome differs depending on the musical content\n",
    "# In addition, dynamic tempo tracking is a better option for rhythmically non-conventional musics"
   ]
  },
  {
   "cell_type": "code",
   "execution_count": null,
   "metadata": {},
   "outputs": [],
   "source": [
    "def onset_tempo(sound, sr=44100, hop_length=512, n_fft=2048, Normalize=True):\n",
    "    perc = librosa.effects.percussive(sound) #6.1.\n",
    "    onset_strength = librosa.onset.onset_strength(y=perc, sr=sr, hop_length=hop_length) #6.2.\n",
    "    onset_strength_n = normalize(onset_strength)\n",
    "    time_s = librosa.times_like(onset_strength, sr=sr, hop_length=hop_length, n_fft=n_fft)\n",
    "    tempo = librosa.beat.tempo(onset_envelope=onset_strength, sr=sr) #6.3.\n",
    "    if Normalize:\n",
    "        return time_s, onset_strength_n, tempo\n",
    "    else:\n",
    "        return time_s, onset_strength, tempo"
   ]
  },
  {
   "cell_type": "code",
   "execution_count": null,
   "metadata": {},
   "outputs": [],
   "source": [
    "audio_features = onset_tempo(sound)"
   ]
  },
  {
   "cell_type": "code",
   "execution_count": null,
   "metadata": {},
   "outputs": [],
   "source": [
    "print('Tempo: %.i BPM'%(audio_features[2][0]))"
   ]
  },
  {
   "cell_type": "code",
   "execution_count": null,
   "metadata": {},
   "outputs": [],
   "source": [
    "#Plot all together"
   ]
  },
  {
   "cell_type": "code",
   "execution_count": null,
   "metadata": {},
   "outputs": [],
   "source": [
    "peak_values_n = normalize(peak_values)\n",
    "\n",
    "fig, ax = plt.subplots(nrows=3, ncols=1, figsize=(16,7))\n",
    "\n",
    "ax[0].plot(audio_features[0], audio_features[1], alpha=0.4, linewidth=2.5, label='Audio onset strength', color='blue')\n",
    "\n",
    "ax[1].plot(peak_times, peak_values_n, alpha=0.4, linewidth=2.5, label='ACC peaks', color='red')\n",
    "\n",
    "ax[2].plot(time[:-1], qom_fn, alpha=0.4, linewidth=2.5, label='QoM trend', color='green')\n",
    "\n",
    "[ax[n].grid(True) for n in range(3)]\n",
    "[ax[n].legend(loc='lower center') for n in range(3)]"
   ]
  },
  {
   "cell_type": "markdown",
   "metadata": {},
   "source": [
    "## 7. Geo-location"
   ]
  },
  {
   "cell_type": "code",
   "execution_count": null,
   "metadata": {},
   "outputs": [],
   "source": [
    "df_geo = pd.read_csv(geo_dat,index_col=0)\n",
    "df_geo.head()"
   ]
  },
  {
   "cell_type": "code",
   "execution_count": null,
   "metadata": {},
   "outputs": [],
   "source": [
    "from mpl_toolkits.basemap import Basemap\n",
    "from geopy.geocoders import Nominatim\n",
    "\n",
    "def get_address(lat, long, api='geoapiExercises'):\n",
    "    geolocator = Nominatim(user_agent=api)\n",
    "    location = geolocator.reverse(str(lat)+ ', ' + str(long))\n",
    "    return location.address.split(', ')\n",
    "\n",
    "def get_coordinates(place, api='geoapiExercises', timeout=5):\n",
    "    geolocator = Nominatim(user_agent=api)\n",
    "    location = geolocator.geocode(place, timeout=timeout)\n",
    "    if not location:\n",
    "        return None, None\n",
    "    return location.latitude, location.longitude\n",
    "\n",
    "def plot_map(latitude, longitude, figsize=(10,10), markersize=12, fontsize=20, verbose=False):\n",
    "    address = get_address(latitude, longitude)\n",
    "    if verbose:\n",
    "        print(address)\n",
    "    address = address[-3:]\n",
    "    city_lat = get_coordinates(address[0])[0]\n",
    "    city_lon = get_coordinates(address[0])[1]\n",
    "    \n",
    "    fig = plt.figure(figsize=figsize)\n",
    "    m = Basemap(projection='lcc', resolution=None, \n",
    "                width=8E6, height=8E6,\n",
    "                lat_0 = city_lat, lon_0 = city_lon)\n",
    "    m.etopo(scale=1, alpha=0.5)\n",
    "    x, y = m(longitude, latitude)\n",
    "    plt.plot(x, y, 'ok', markersize=markersize)\n",
    "    plt.text(x, y, address[0], fontsize=fontsize)"
   ]
  },
  {
   "cell_type": "code",
   "execution_count": null,
   "metadata": {},
   "outputs": [],
   "source": [
    "plot_map(df_geo.latitude.values[0], df_geo.longitude.values[0], verbose=True)"
   ]
  },
  {
   "cell_type": "code",
   "execution_count": null,
   "metadata": {},
   "outputs": [],
   "source": []
  }
 ],
 "metadata": {
  "kernelspec": {
   "display_name": "Python 3",
   "language": "python",
   "name": "python3"
  },
  "language_info": {
   "codemirror_mode": {
    "name": "ipython",
    "version": 3
   },
   "file_extension": ".py",
   "mimetype": "text/x-python",
   "name": "python",
   "nbconvert_exporter": "python",
   "pygments_lexer": "ipython3",
   "version": "3.7.3"
  }
 },
 "nbformat": 4,
 "nbformat_minor": 4
}
