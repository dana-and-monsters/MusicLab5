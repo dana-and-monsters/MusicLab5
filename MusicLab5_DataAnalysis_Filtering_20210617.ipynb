{
 "cells": [
  {
   "cell_type": "markdown",
   "id": "2dd27e7c",
   "metadata": {},
   "source": [
    "# MuscLiab Notebook for Motion Analysis\n",
    "In this notebook I want to process the motion files and save them\n",
    "1) Filter them\n",
    "\n",
    "2) Normalize\n",
    "\n",
    "3) Downsample the filtered for use in animation"
   ]
  },
  {
   "cell_type": "markdown",
   "id": "55e170ee",
   "metadata": {},
   "source": [
    "## Import libraries"
   ]
  },
  {
   "cell_type": "code",
   "execution_count": 4,
   "id": "2c55f04e",
   "metadata": {},
   "outputs": [],
   "source": [
    "import os\n",
    "import pickle \n",
    "import numpy as np\n",
    "import pandas as pd\n",
    "import matplotlib.pyplot as plt\n",
    "from matplotlib.animation import FuncAnimation"
   ]
  },
  {
   "cell_type": "markdown",
   "id": "63d218d4",
   "metadata": {},
   "source": [
    "## Import data"
   ]
  },
  {
   "cell_type": "code",
   "execution_count": 11,
   "id": "3e263b76",
   "metadata": {},
   "outputs": [],
   "source": [
    "# Open dict from pickle\n",
    "fname = \"renick_audience_excerpt_2021-06-14.pickle\"\n",
    "with open(fname, 'rb') as handle: \n",
    "    renick_audience_excerpt = pickle.load(handle)"
   ]
  },
  {
   "cell_type": "code",
   "execution_count": 6,
   "id": "3c4fe774",
   "metadata": {},
   "outputs": [],
   "source": [
    "# Open dict from pickle\n",
    "fname = \"khoparzi_audience_excerpt_2021-06-14.pickle\"\n",
    "with open(fname, 'rb') as handle: \n",
    "    khoparzi_audience_excerpt = pickle.load(handle)"
   ]
  },
  {
   "cell_type": "markdown",
   "id": "d04c6ec1",
   "metadata": {},
   "source": [
    "## Is the sampling rate consistent?\n",
    "If the sampling rate was consistent the second order difference in the timestamp would be a single number.  \n",
    "If it isn't, we should resample the time series to make it consistent? Interpolate? Or downsample?  \n",
    "I am interested in the 0.5-10Hz range therefore I could downsample safely I think."
   ]
  },
  {
   "cell_type": "code",
   "execution_count": 7,
   "id": "2ac4cf40",
   "metadata": {},
   "outputs": [],
   "source": [
    "df_motion = renick_audience_excerpt[1]"
   ]
  },
  {
   "cell_type": "code",
   "execution_count": 17,
   "id": "bb59486e",
   "metadata": {},
   "outputs": [
    {
     "name": "stdout",
     "output_type": "stream",
     "text": [
      "sr: 60 Hz\n"
     ]
    }
   ],
   "source": [
    "# estimate avg sampling rate\n",
    "freq = int(round(1/ np.mean(np.diff(df_motion.timestamp)), 3) * 1000)\n",
    "print('sr:', freq, 'Hz')"
   ]
  },
  {
   "cell_type": "code",
   "execution_count": 15,
   "id": "aecf2315",
   "metadata": {},
   "outputs": [
    {
     "name": "stdout",
     "output_type": "stream",
     "text": [
      "Min: 7, Max: 36, Mean: 16.66733337037243\n"
     ]
    }
   ],
   "source": [
    "diff = np.diff(df_motion.timestamp)\n",
    "plt.plot(diff)\n",
    "print('Min: ' + str(min(diff))+ ', Max: ' +str(max(diff))+ ', Mean: '+str(np.mean(diff)))"
   ]
  },
  {
   "cell_type": "markdown",
   "id": "044aecf3",
   "metadata": {},
   "source": [
    "This means that the sampling rate varies throughout the dataset. This should not matter so much if I downsample."
   ]
  },
  {
   "cell_type": "markdown",
   "id": "5ef6e315",
   "metadata": {},
   "source": [
    "### Downsample the signal\n",
    "The Nyquist criterium determines that your sampling frequency needs to be at least 2x the bandwidth of interest. Finn downsampled to 10Hz.\n",
    "\n",
    "Maybe could try a spline interpolation?\n",
    "SciPy digitial signal processign might bw rhw way to go\n",
    "\n",
    "I emailed finn to inquire how they downsampled. But first: check how the timestamps change with filtering\n"
   ]
  },
  {
   "cell_type": "markdown",
   "id": "91386e78",
   "metadata": {},
   "source": [
    "## 4. Pre-processing the data\n",
    "### 4.1. Filtering\n",
    "##### e.g. 4th order, zero-phase IIR lowpass or bandpass filter"
   ]
  },
  {
   "cell_type": "code",
   "execution_count": 1,
   "id": "a2895caf",
   "metadata": {},
   "outputs": [],
   "source": [
    "from scipy.signal import butter, lfilter\n",
    "\n",
    "def butter_filt(data, lowcut, highcut, fs, order=4, btype='band'):\n",
    "    nyq = fs / 2\n",
    "    b, a = butter(order, [lowcut/nyq, highcut/nyq], btype=btype)\n",
    "    y = lfilter(b, a, data)\n",
    "    return "
   ]
  },
  {
   "cell_type": "markdown",
   "id": "b224e3ee",
   "metadata": {},
   "source": [
    "## Define filter parameters\n",
    "Finn suggested 0.5-5Hz because 10 Hz is a really high frequency for human motion"
   ]
  },
  {
   "cell_type": "code",
   "execution_count": 2,
   "id": "c0e74e02",
   "metadata": {},
   "outputs": [],
   "source": [
    "lowcut = 0.5\n",
    "highcut = 5"
   ]
  },
  {
   "cell_type": "code",
   "execution_count": 10,
   "id": "dccc49eb",
   "metadata": {},
   "outputs": [
    {
     "ename": "ValueError",
     "evalue": "cannot convert float NaN to integer",
     "output_type": "error",
     "traceback": [
      "Traceback \u001b[1;36m(most recent call last)\u001b[0m:\n",
      "\u001b[1;36m  File \u001b[1;32m\"<ipython-input-10-a89fd0083d16>\"\u001b[1;36m, line \u001b[1;32m1\u001b[1;36m, in \u001b[1;35m<module>\u001b[1;36m\u001b[0m\n\u001b[1;33m    freq = int(round(1 / np.mean(np.diff(df_motion.timestamp)), 3) * 1000)\u001b[0m\n",
      "\u001b[1;31mValueError\u001b[0m\u001b[1;31m:\u001b[0m cannot convert float NaN to integer\n"
     ]
    }
   ],
   "source": [
    "freq = int(round(1 / np.mean(np.diff(df_motion.timestamp)), 3) * 1000)"
   ]
  },
  {
   "cell_type": "code",
   "execution_count": 9,
   "id": "219aaf36",
   "metadata": {},
   "outputs": [
    {
     "name": "stderr",
     "output_type": "stream",
     "text": [
      "C:\\Users\\danasw\\Anaconda3\\lib\\site-packages\\numpy\\core\\fromnumeric.py:3419: RuntimeWarning: Mean of empty slice.\n",
      "  return _methods._mean(a, axis=axis, dtype=dtype,\n"
     ]
    },
    {
     "ename": "ValueError",
     "evalue": "cannot convert float NaN to integer",
     "output_type": "error",
     "traceback": [
      "Traceback \u001b[1;36m(most recent call last)\u001b[0m:\n",
      "\u001b[1;36m  File \u001b[1;32m\"<ipython-input-9-744bb6dc0fe0>\"\u001b[1;36m, line \u001b[1;32m6\u001b[1;36m, in \u001b[1;35m<module>\u001b[1;36m\u001b[0m\n\u001b[1;33m    freq = int(round(1 / np.mean(np.diff(df_motion.timestamp)), 3) * 1000)\u001b[0m\n",
      "\u001b[1;31mValueError\u001b[0m\u001b[1;31m:\u001b[0m cannot convert float NaN to integer\n"
     ]
    }
   ],
   "source": [
    "renick_filtered = {}\n",
    "for k,v in renick_audience_excerpt.items():\n",
    "    df_motion = v\n",
    "    columns = list(df_motion.iloc[:, 1:4])\n",
    "    filtered=[]\n",
    "    freq = int(round(1 / np.mean(np.diff(df_motion.timestamp)), 3) * 1000)\n",
    "    for col in columns:\n",
    "        filt = butter_filt(df_motion[col], lowcut, highcut, fs=freq, order=4)\n",
    "        filtered.append(filt)\n",
    "    renick_filtered[k] = filtered"
   ]
  },
  {
   "cell_type": "code",
   "execution_count": null,
   "id": "96db5d3b",
   "metadata": {},
   "outputs": [],
   "source": [
    "khoparzi_filtered = {}\n",
    "for k,v in khoparzi_audience.items():\n",
    "    df_motion = v\n",
    "    columns = list(df_motion.iloc[:, 1:4])\n",
    "    filtered=[]\n",
    "    freq = int(round(1 / np.mean(np.diff(df_motion.timestamp)), 3) * 1000)\n",
    "    for col in columns:\n",
    "        filt = butter_filt(df_motion[col], lowcut, highcut, fs=freq, order=4)\n",
    "        filtered.append(filt)\n",
    "    khoparzi_filtered[k] = filtered"
   ]
  },
  {
   "cell_type": "markdown",
   "id": "0ba3e829",
   "metadata": {},
   "source": [
    "Finn code"
   ]
  },
  {
   "cell_type": "code",
   "execution_count": null,
   "id": "7c909e13",
   "metadata": {},
   "outputs": [],
   "source": [
    "mob['Time'] = (mob['time']-mob['time'].loc[0]) # Time is time zero \n",
    "df = mob \n",
    "cols = ['x', 'y', 'z'] \n",
    "time_new = np.arange(df['Time'].iat[0], df['Time'].iat[-1], 1/fs) \n",
    "df_rs = pd.DataFrame() \n",
    "df_rs['Time'] = time_new \n",
    "df_rs = df_rs.set_index('Time') \n",
    "df_rs['Time (s)'] = time_new/1000 for c in cols: \n",
    "    # if not c.startswith('time') and not c.startswith('Time') : \n",
    "    f = interpolate.interp1d(df.Time, df[c].values,fill_value='extrapolate') \n",
    "    df_rs[c] = f(time_new) \n",
    "    mob_rs = df_rs.copy()\n"
   ]
  }
 ],
 "metadata": {
  "kernelspec": {
   "display_name": "Python 3 (Spyder)",
   "language": "python3",
   "name": "python3"
  },
  "language_info": {
   "codemirror_mode": {
    "name": "ipython",
    "version": 3
   },
   "file_extension": ".py",
   "mimetype": "text/x-python",
   "name": "python",
   "nbconvert_exporter": "python",
   "pygments_lexer": "ipython3",
   "version": "3.8.5"
  }
 },
 "nbformat": 4,
 "nbformat_minor": 5
}
