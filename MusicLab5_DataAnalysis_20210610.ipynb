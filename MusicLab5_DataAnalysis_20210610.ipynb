{
 "cells": [
  {
   "cell_type": "markdown",
   "metadata": {},
   "source": [
    "# MusicLab Notebook for Data Analysis - RPPW\n",
    "Edited by Dana (June 10-, 2021) from the file used for the lab presentation to analyze data for the RPPW Conference.\n",
    "MusicLab5: Lockdown Rave took place on July 10th therefore all data needs to have a timestamp indicating that date.  \n",
    "Event start:  \n",
    "UTC 13:30  \n",
    "15:30 in Oslo \n",
    "19:00 in India  \n",
    "22:30 in Japan\n",
    "\n",
    "## Performance times in UTC\n",
    "Renick Bell performance: ~13:54-14:25\n",
    "Khoparzi performance: ~14:34-15:04\n",
    "Performance times were extracted by examining Renick's computer time when he started and ended and then examining how much time was between Renick and Khoparzi's performances.\n",
    "\n",
    "## Baselines & IDing start of Music\n",
    "Before the performance we measured 2 baselines. Baseline 1: 10-seconds flat surface. Baseline 2: 10-seconds still body. \n",
    "Participants were instructed to place their phones on a flat surface, to press start recording and then to shake their phones when they heard the music and then to place them on their bodies. \n",
    "\n",
    "In checking the duration, and in particular the start time of each recording, I learned that the longest file contains all motion information from that participant. Therefore, I simply need to locate the file with the longest duration and load that as the file for each participant.\n",
    "\n",
    "\n",
    "Solveig = participant 3  \n",
    "Renick = paricipant 10  \n",
    "Dana = participant 11  \n",
    "Khoparzi's data was lost (app malfunctioned)"
   ]
  },
  {
   "cell_type": "markdown",
   "metadata": {},
   "source": [
    "## 1. Importing libraries"
   ]
  },
  {
   "cell_type": "code",
   "execution_count": null,
   "metadata": {},
   "outputs": [],
   "source": [
    "import os, fnmatch\n",
    "import numpy as np\n",
    "import pandas as pd\n",
    "import matplotlib\n",
    "matplotlib.use('TkAgg')\n",
    "import matplotlib.pyplot as plt\n",
    "%matplotlib inline\n",
    "# some plots"
   ]
  },
  {
   "cell_type": "code",
   "execution_count": null,
   "metadata": {},
   "outputs": [],
   "source": [
    "matplotlib.rc('xtick', labelsize=14)     \n",
    "matplotlib.rc('ytick', labelsize=14)\n",
    "matplotlib.rcParams['font.size'] = 15\n",
    "matplotlib.rcParams['legend.fontsize'] = 20\n",
    "matplotlib.rcParams['figure.titlesize'] = 16"
   ]
  },
  {
   "cell_type": "markdown",
   "metadata": {},
   "source": [
    "## 2. Directory management"
   ]
  },
  {
   "cell_type": "code",
   "execution_count": null,
   "metadata": {},
   "outputs": [],
   "source": [
    "path = '/Users/danasw/Documents/PhD/Research/MusicLab_Lockdown/Files_for_Research_Drive/Raw_Data/Movement_Data/'\n",
    "datasets = ['Pt-0'+str(nr) for nr in range(1,10)]\n",
    "datasets = datasets+['Pt-'+str(nr) for nr in range(10,20)]"
   ]
  },
  {
   "cell_type": "code",
   "execution_count": null,
   "metadata": {},
   "outputs": [],
   "source": [
    "def ffind(pattern, path):\n",
    "    result=[]\n",
    "    for root, dirs, files in os.walk(path):\n",
    "        for name in files:\n",
    "            if fnmatch.fnmatch(name, pattern):\n",
    "                result.append(os.path.join(root, name))\n",
    "    return result"
   ]
  },
  {
   "cell_type": "markdown",
   "metadata": {},
   "source": [
    "## 3. Reading & writing data into Pandas Dataframe\n",
    "#### Create dictionary of dataframes\n",
    "Extract the file with the longest duration as the file that will be examined for each participant.\n",
    "\n",
    "TODO: update the script to also extract the correct geolocation file."
   ]
  },
  {
   "cell_type": "code",
   "execution_count": null,
   "metadata": {},
   "outputs": [],
   "source": [
    "def GetLongestFile(dictionary):\n",
    "    return max((len(v), k) for k,v in dictionary.items())   "
   ]
  },
  {
   "cell_type": "code",
   "execution_count": null,
   "metadata": {},
   "outputs": [],
   "source": [
    "df_motion_files={}\n",
    "df_geo_dict={}\n",
    "df_geo_files={}\n",
    "df_motion_dict = {}\n",
    "for datset in range(0,19):\n",
    "    pt = datset+1\n",
    "    participant_dict = {}\n",
    "    file_dict = {}\n",
    "    n = 0\n",
    "    for dat in ffind('*.csv', os.path.join(path, datasets[datset])):\n",
    "        if 'Motion' in dat:\n",
    "            print('Dataset #'+ str(pt) + ' IMU √')\n",
    "            df_motion = pd.read_csv(dat, index_col=1)\n",
    "            n+=1\n",
    "            participant_dict[n] = df_motion\n",
    "            file_dict[n] = os.path.relpath(dat)\n",
    "        elif 'geo' in dat:\n",
    "            print('Dataset #'+ str(pt) + ' Geo √')\n",
    "            df_geo = pd.read_csv(dat, index_col=1)\n",
    "            df_geo_dict[pt] = df_geo\n",
    "            df_geo_files[pt] = os.path.relpath(dat)\n",
    "    # find the participants' longest motion file \n",
    "    (v, k) = GetLongestFile(participant_dict)\n",
    "    if v > 7200: # if file is longer than 2-minutes\n",
    "        longest = participant_dict[k]\n",
    "        # convert index to human readable datetime\n",
    "        longest.loc[:,\"datetime\"] = pd.to_datetime(longest.timestamp, unit='ms')\n",
    "        longest = longest.set_index(['datetime'])\n",
    "        df_motion_dict[pt] = longest\n",
    "        df_motion_files[pt] = file_dict[k]\n",
    "    "
   ]
  },
  {
   "cell_type": "markdown",
   "metadata": {},
   "source": [
    "## Renick Bell's Motion\n",
    "Update participant number.  \n",
    "Solveig = participant 3  \n",
    "Renick = paricipant 10  \n",
    "Dana = participant 11  \n",
    "Khoparzi's data was lost *"
   ]
  },
  {
   "cell_type": "code",
   "execution_count": null,
   "metadata": {},
   "outputs": [],
   "source": [
    "pt_num = 10\n",
    "df_motion = df_motion_dict[pt_num]"
   ]
  },
  {
   "cell_type": "markdown",
   "metadata": {},
   "source": [
    "### Identify when Renick began the motion recording"
   ]
  },
  {
   "cell_type": "code",
   "execution_count": null,
   "metadata": {},
   "outputs": [],
   "source": [
    "print(df_motion.sort_index().first_valid_index())"
   ]
  },
  {
   "cell_type": "markdown",
   "metadata": {},
   "source": [
    "![](app-imu-small.png)"
   ]
  },
  {
   "cell_type": "code",
   "execution_count": null,
   "metadata": {},
   "outputs": [],
   "source": [
    "# first plot entire motion\n",
    "df_motion.iloc[:, 1:4].plot(figsize=(24,3), color = ['tab:orange','tab:blue','tab:green'])"
   ]
  },
  {
   "cell_type": "markdown",
   "metadata": {},
   "source": [
    "## Extract Renick's performance\n",
    "Renick = paricipant 10  "
   ]
  },
  {
   "cell_type": "markdown",
   "metadata": {},
   "source": [
    "#### Estimate average sampling frequency "
   ]
  },
  {
   "cell_type": "code",
   "execution_count": null,
   "metadata": {},
   "outputs": [],
   "source": [
    "freq = int(round(1 / np.mean(np.diff(df_motion.timestamp)), 3) * 1000)\n",
    "print('sr:', freq, 'Hz')"
   ]
  },
  {
   "cell_type": "markdown",
   "metadata": {},
   "source": [
    "### Renick Performance Time\n",
    "We know when Renick started and stopped performing thanks to his computer's time stamp which is in the bottom right corner of his screen in the YouTube video.\n",
    "13:54-14:25\n"
   ]
  },
  {
   "cell_type": "code",
   "execution_count": null,
   "metadata": {},
   "outputs": [],
   "source": [
    "## Extract performance\n",
    "df_motion = df_motion.loc['2020-07-10 13:54' : '2020-07-10 14:25.5' , :]"
   ]
  },
  {
   "cell_type": "code",
   "execution_count": null,
   "metadata": {},
   "outputs": [],
   "source": [
    "df_motion.loc[:, \"xaxis_s\"] = np.linspace(0, len(df_motion)/freq, len(df_motion)) #seconds\n",
    "df_motion.loc[:, \"xaxis_min\"] = np.linspace(0, (len(df_motion)/freq)/60, len(df_motion)) # minutes"
   ]
  },
  {
   "cell_type": "code",
   "execution_count": null,
   "metadata": {},
   "outputs": [],
   "source": [
    "df_motion.plot(x = \"xaxis_min\", y = [\"x\",\"y\", \"z\"],figsize=(24,3), color = ['tab:orange','tab:blue','tab:green'])\n",
    "plt.xlabel(\"time (min)\")\n",
    "plt.xticks(np.arange(0, (len(df_motion)/freq)/60, step=5))"
   ]
  },
  {
   "cell_type": "markdown",
   "metadata": {},
   "source": [
    "## Extract excerpts of audience's movement from Renick's performance\n",
    "Recall that participants viewing in real-time would have viewed the stream 15-seconds after Renick performed it. It is also possible some audience were not watching in realtime so be sure to check that there is shaking of the phone near the time you would expect it. If not, you may need to adjust the data that is extracted for that participant. \n",
    "\n",
    "Another way: I need to manually or automatically detect the beginning of the shakes.\n",
    "Finn suggested using second and third order differences to detect the beginning of the shake.\n",
    "Another way is to manually go throguh each plot and ID by clicking using matplotlib ginput function. "
   ]
  },
  {
   "cell_type": "code",
   "execution_count": null,
   "metadata": {},
   "outputs": [],
   "source": [
    "## Remove participants who have no data during renick's performance (pt 6, 7, 16)\n",
    "renick_audience = {}\n",
    "for k,v in df_motion_dict.items():\n",
    "    df_motion = df_motion_dict[k]\n",
    "    df_motion_r = df_motion.sort_index().loc['2020-07-10 13:54' : '2020-07-10 14:25.5', :] # 13:54-14:25.5\n",
    "    if k != 10 and len(df_motion_r)>0: # remove any dataframes not containing data during Renick's performance and Renick's performance\n",
    "        renick_audience[k]=df_motion    "
   ]
  },
  {
   "cell_type": "markdown",
   "metadata": {},
   "source": [
    "#  Identify the shaking in the data\n",
    "The shaking could not have occurred before Renick started his performance. Renick's performance was between 13:54 - 14:27 therefore there is no shaking before 13:54\n",
    "Participant 14: doesn't have much data from renick's performance\n",
    "Shaking signal seems to be the largest signal across all participants"
   ]
  },
  {
   "cell_type": "code",
   "execution_count": null,
   "metadata": {},
   "outputs": [],
   "source": [
    "# Extract first minute after performance start\n",
    "df_motion = renick_audience[3]\n",
    "df_motion.loc[:, \"x\":\"z\"].plot(figsize=(24,3), color = ['tab:orange','tab:blue','tab:green']) # if want minutes use x = \"xaxis_min\"\n",
    "start_idx =  df_motion.sort_index().first_valid_index()\n",
    "start_time = pd.to_datetime('2020-07-10 13:54')# look at 13:54 because nothing before this could be the shake\n",
    "time_change = pd.Timedelta(\"2 minutes\")\n",
    "end_time = start_time + time_change\n",
    "df_motion_one_min = df_motion.sort_index().loc[start_time : end_time, :]\n",
    "df_motion_one_min.loc[:, \"x\":\"z\"].plot(figsize=(24,3), color = ['tab:orange','tab:blue','tab:green']) # if want minutes use x = \"xaxis_min\""
   ]
  },
  {
   "cell_type": "markdown",
   "metadata": {},
   "source": [
    "## Make the same plots in matplotlib"
   ]
  },
  {
   "cell_type": "code",
   "execution_count": null,
   "metadata": {},
   "outputs": [],
   "source": [
    "# estimate avg sampling rate\n",
    "freq = int(round(1 / np.mean(np.diff(df_motion_one_min.timestamp)), 3) * 1000)\n",
    "print('sr:', freq, 'Hz')\n",
    "\n",
    "# create x-axis\n",
    "time = np.linspace(0, (len(df_motion_one_min)/freq)/60, len(df_motion_one_min)) # minutes\n",
    "\n",
    "fig, ax = plt.subplots( figsize=(24,3)) # nrows=3, ncols=1,\n",
    "\n",
    "ax.plot(df_motion_one_min.index.values, df_motion_one_min['x'])\n",
    "ax.plot(df_motion_one_min.index.values, df_motion_one_min['y'])\n",
    "ax.plot(df_motion_one_min.index.values, df_motion_one_min['z'])\n",
    "\n",
    "shake_start = plt.ginput(1)\n",
    "\n",
    "plt.show()"
   ]
  },
  {
   "cell_type": "markdown",
   "metadata": {},
   "source": [
    "It is unclear what the number in the x-axis represents when we are using the index values, therefore slicing might be easeir if we plot with the timestamp instead."
   ]
  },
  {
   "cell_type": "code",
   "execution_count": null,
   "metadata": {},
   "outputs": [],
   "source": [
    "fig, ax = plt.subplots( figsize=(24,3)) # nrows=3, ncols=1,\n",
    "\n",
    "ax.plot(df_motion_one_min['timestamp'], df_motion_one_min['x'])\n",
    "ax.plot(df_motion_one_min['timestamp'], df_motion_one_min['y'])\n",
    "ax.plot(df_motion_one_min['timestamp'], df_motion_one_min['z'])\n",
    "\n",
    "shake_start = plt.ginput(1)\n",
    "\n",
    "plt.show()"
   ]
  },
  {
   "cell_type": "code",
   "execution_count": null,
   "metadata": {},
   "outputs": [],
   "source": [
    "start = pd.to_datetime(shake_start[0][0], unit='s')\n"
   ]
  },
  {
   "cell_type": "markdown",
   "metadata": {},
   "source": [
    "## Second order difference"
   ]
  },
  {
   "cell_type": "code",
   "execution_count": null,
   "metadata": {},
   "outputs": [],
   "source": [
    "df_motion_diff_two = df_motion_one_min.loc[:, \"x\":\"z\"].diff(2)\n",
    "df_motion_diff_two.loc[:, \"x\":\"z\"].plot(figsize=(24,3), color = ['tab:orange','tab:blue','tab:green']) # if want minutes use x = \"xaxis_min\""
   ]
  },
  {
   "cell_type": "markdown",
   "metadata": {},
   "source": [
    "## Third order difference"
   ]
  },
  {
   "cell_type": "code",
   "execution_count": null,
   "metadata": {},
   "outputs": [],
   "source": [
    "df_motion_diff_three = df_motion_one_min.loc[:, \"x\":\"z\"].diff(3)\n",
    "df_motion_diff_three.loc[:, \"x\":\"z\"].plot(figsize=(24,3), color = ['tab:orange','tab:blue','tab:green']) # if want minutes use x = \"xaxis_min\""
   ]
  },
  {
   "cell_type": "markdown",
   "metadata": {},
   "source": [
    "### Plot full data and then the excerpt"
   ]
  },
  {
   "cell_type": "code",
   "execution_count": null,
   "metadata": {},
   "outputs": [],
   "source": [
    "for k,v in renick_audience.items():\n",
    "    excerpt = renick_audience[k]\n",
    "    # plot full \n",
    "    full = df_motion_dict[k]\n",
    "    df_motion_dict[k].loc[:, \"x\":\"z\"].plot(figsize=(24,3), color = ['tab:orange','tab:blue','tab:green']) # if want minutes use x = \"xaxis_min\"\n",
    "    plt.title(label = \"Pt-\"+str(k))\n",
    "    # to compare with excerpt\n",
    "    excerpt.loc[:, \"x\":\"z\"].plot(figsize=(24,3), color = ['tab:orange','tab:blue','tab:green']) # if want minutes use x = \"xaxis_min\""
   ]
  },
  {
   "cell_type": "markdown",
   "metadata": {},
   "source": [
    "## Extract excerpts of audience motion from Khoparzi performance"
   ]
  },
  {
   "cell_type": "code",
   "execution_count": null,
   "metadata": {},
   "outputs": [],
   "source": [
    "## Remove participants who have no data during renick's performance (pt 1,9,10,11,18)\n",
    "khoparzi_audience = {}\n",
    "for k,v in df_motion_dict.items():\n",
    "    df_motion = df_motion_dict[k]\n",
    "    df_motion = df_motion.sort_index().loc['2020-07-10 14:34' : '2020-07-10 15:04', :] # Real times: '2020-07-10 14:36' : '2020-07-10 15:04'; or 14:34-15:04 \n",
    "    if k != 3 and len(df_motion)>100: # remove any dataframes not containing more than 100 samples and participant 3 who does not seem to have motion after the shake\n",
    "        khoparzi_audience[k]=df_motion    "
   ]
  },
  {
   "cell_type": "code",
   "execution_count": null,
   "metadata": {},
   "outputs": [],
   "source": [
    "for k,v in khoparzi_audience.items():\n",
    "    excerpt = khoparzi_audience[k]\n",
    "    # plot full \n",
    "    full = df_motion_dict[k]\n",
    "    df_motion_dict[k].loc[:, \"x\":\"z\"].plot(figsize=(24,3), color = ['tab:orange','tab:blue','tab:green']) # if want minutes use x = \"xaxis_min\"\n",
    "    plt.title(label = \"Pt-\"+str(k))\n",
    "    # to compare with excerpt\n",
    "    excerpt.loc[:, \"x\":\"z\"].plot(figsize=(24,3), color = ['tab:orange','tab:blue','tab:green']) # if want minutes use x = \"xaxis_min\""
   ]
  },
  {
   "cell_type": "markdown",
   "metadata": {},
   "source": [
    "### Plot 1-min of data from one participant\n",
    "Pt-4, 13, and 14 look like they have movement. Let's check out some 1-minute intervals of theirs"
   ]
  },
  {
   "cell_type": "code",
   "execution_count": null,
   "metadata": {},
   "outputs": [],
   "source": [
    "k = 4\n",
    "dance_excerpt = khoparzi_audience[k]\n",
    "dance_1min = dance_excerpt.sort_index().loc['2020-07-10 14:45' : '2020-07-10 14:46', :] # Real times: '2020-07-10 14:36' : '2020-07-10 15:04'\n",
    "dance_1min.loc[:, \"x\":\"z\"].plot(figsize=(24,3), color = ['tab:orange','tab:blue','tab:green']) # if want minutes use x = \"xaxis_min\"\n",
    "plt.title(label = \"Pt-\"+str(k))"
   ]
  },
  {
   "cell_type": "markdown",
   "metadata": {},
   "source": [
    "## 4. Pre-processing the data\n",
    "### 4.1. Filtering\n",
    "##### e.g. 4th order, zero-phase IIR lowpass or bandpass filter"
   ]
  },
  {
   "cell_type": "code",
   "execution_count": null,
   "metadata": {},
   "outputs": [],
   "source": [
    "from scipy.signal import butter, lfilter\n",
    "\n",
    "def butter_filt(data, lowcut, highcut, fs, order=4, btype='band'):\n",
    "    nyq = fs / 2\n",
    "    b, a = butter(order, [lowcut/nyq, highcut/nyq], btype=btype)\n",
    "    y = lfilter(b, a, data)\n",
    "    return y"
   ]
  },
  {
   "cell_type": "markdown",
   "metadata": {},
   "source": [
    "## Define filter parameters\n",
    "Finn suggested 0.5-5Hz because 10 Hz is a really high frequency for human motion"
   ]
  },
  {
   "cell_type": "code",
   "execution_count": null,
   "metadata": {},
   "outputs": [],
   "source": [
    "lowcut = 0.5\n",
    "highcut = 5"
   ]
  },
  {
   "cell_type": "code",
   "execution_count": null,
   "metadata": {},
   "outputs": [],
   "source": [
    "renick_filtered = {}\n",
    "for k,v in renick_audience.items():\n",
    "    df_motion = renick_audience[k]\n",
    "    columns = list(df_motion.iloc[:, 1:4])\n",
    "    filtered=[]\n",
    "    freq = int(round(1 / np.mean(np.diff(df_motion.timestamp)), 3) * 1000)\n",
    "    for col in columns:\n",
    "        filt = butter_filt(df_motion[col], lowcut, highcut, fs=freq, order=4)\n",
    "        filtered.append(filt)\n",
    "    renick_filtered[k] = filtered"
   ]
  },
  {
   "cell_type": "code",
   "execution_count": null,
   "metadata": {},
   "outputs": [],
   "source": [
    "khoparzi_filtered = {}\n",
    "for k,v in khoparzi_audience.items():\n",
    "    df_motion = khoparzi_audience[k]\n",
    "    columns = list(df_motion.iloc[:, 1:4])\n",
    "    filtered=[]\n",
    "    freq = int(round(1 / np.mean(np.diff(df_motion.timestamp)), 3) * 1000)\n",
    "    for col in columns:\n",
    "        filt = butter_filt(df_motion[col], lowcut, highcut, fs=freq, order=4)\n",
    "        filtered.append(filt)\n",
    "    khoparzi_filtered[k] = filtered"
   ]
  },
  {
   "cell_type": "markdown",
   "metadata": {},
   "source": [
    "### 4.2. Normalization"
   ]
  },
  {
   "cell_type": "code",
   "execution_count": null,
   "metadata": {},
   "outputs": [],
   "source": [
    "def normalize(y, min_val=0):\n",
    "    max_value = max(y)\n",
    "    min_value = min(y)\n",
    "    k = []\n",
    "    for i in range(0, len(y)):\n",
    "        if min_val == 0:\n",
    "            k.append((y[i] - min_value) / (max_value - min_value))\n",
    "        elif min_val == -1:\n",
    "            k.append( 2*(y[i] - min_value) / (max_value - min_value)-1 )\n",
    "    return np.array(k)"
   ]
  },
  {
   "cell_type": "code",
   "execution_count": null,
   "metadata": {},
   "outputs": [],
   "source": [
    "renick_normalized = {}\n",
    "for k,v in renick_filtered.items():\n",
    "    filtnorm=[]\n",
    "    filtered = renick_filtered[k]\n",
    "    for ax in filtered:\n",
    "        norm = normalize(ax, min_val=-1)\n",
    "        filtnorm.append(norm)\n",
    "    renick_normalized[k] = filtnorm"
   ]
  },
  {
   "cell_type": "code",
   "execution_count": null,
   "metadata": {},
   "outputs": [],
   "source": [
    "khoparzi_normalized = {}\n",
    "for k,v in khoparzi_filtered.items():\n",
    "    filtnorm=[]\n",
    "    filtered = khoparzi_filtered[k]\n",
    "    for ax in filtered:\n",
    "        norm = normalize(ax, min_val=-1)\n",
    "        filtnorm.append(norm)\n",
    "    khoparzi_normalized[k] = filtnorm"
   ]
  },
  {
   "cell_type": "markdown",
   "metadata": {},
   "source": [
    "## Visualize the filtered data"
   ]
  },
  {
   "cell_type": "code",
   "execution_count": null,
   "metadata": {},
   "outputs": [],
   "source": [
    "pt = 1\n",
    "df_motion = renick_audience[pt]\n",
    "filt = renick_filtered[pt]\n",
    "\n",
    "# estimate avg sampling rate\n",
    "freq = int(round(1 / np.mean(np.diff(df_motion.timestamp)), 3) * 1000)\n",
    "print('sr:', freq, 'Hz')\n",
    "# create x-axis\n",
    "time = np.linspace(0, (len(df_motion)/freq)/60, len(df_motion)) # minutes\n",
    "\n",
    "fig, ax = plt.subplots(nrows=3, ncols=1, figsize=(16,7))\n",
    "labels = ['X', 'Y', 'Z']\n",
    "colors = ['tab:orange','tab:blue','tab:green']\n",
    "\n",
    "for anr in range(3):\n",
    "    ax[anr].plot(time, filt[anr], label=labels[anr], linewidth=0.5, color=colors[anr], alpha=0.5)\n",
    "    ax[anr].legend(loc='lower right', fontsize=14)\n",
    "ax[0].set_title('X - Lateral - side to side')\n",
    "ax[1].set_title('Y - Vertical - up down')\n",
    "ax[2].set_title('Z - Frontal - forwards backwards')\n",
    "\n",
    "fig.subplots_adjust(hspace=0.5)"
   ]
  },
  {
   "cell_type": "markdown",
   "metadata": {},
   "source": [
    "## Visualize the normalized data"
   ]
  },
  {
   "cell_type": "code",
   "execution_count": null,
   "metadata": {},
   "outputs": [],
   "source": [
    "pt = 1\n",
    "df_motion = renick_audience[pt]\n",
    "filtnorm = renick_normalized[pt]\n",
    "# estimate avg sampling rate\n",
    "freq = int(round(1 / np.mean(np.diff(df_motion.timestamp)), 3) * 1000)\n",
    "print('sr:', freq, 'Hz')\n",
    "# create x-axis\n",
    "time = np.linspace(0, (len(df_motion)/freq)/60, len(df_motion)) # minutes\n",
    "\n",
    "fig, ax = plt.subplots(nrows=3, ncols=1, figsize=(16,7))\n",
    "labels = ['X', 'Y', 'Z']\n",
    "colors = ['tab:orange','tab:blue','tab:green']\n",
    "\n",
    "for anr in range(3):\n",
    "    ax[anr].plot(time, filtnorm[anr], label=labels[anr], linewidth=0.5, color=colors[anr], alpha=0.5)\n",
    "    ax[anr].legend(loc='lower right', fontsize=14)\n",
    "ax[0].set_title('X - Lateral - side to side')\n",
    "ax[1].set_title('Y - Vertical - up down')\n",
    "ax[2].set_title('Z - Frontal - forwards backwards')\n",
    "\n",
    "fig.subplots_adjust(hspace=0.5)"
   ]
  },
  {
   "cell_type": "code",
   "execution_count": null,
   "metadata": {},
   "outputs": [],
   "source": [
    "pt = 13\n",
    "df_motion = khoparzi_audience[pt]\n",
    "filtnorm = khoparzi_normalized[pt]\n",
    "# estimate avg sampling rate\n",
    "freq = int(round(1 / np.mean(np.diff(df_motion.timestamp)), 3) * 1000)\n",
    "print('sr:', freq, 'Hz')\n",
    "# create x-axis\n",
    "time = np.linspace(0, (len(df_motion)/freq)/60, len(df_motion)) # minutes\n",
    "\n",
    "fig, ax = plt.subplots(nrows=3, ncols=1, figsize=(16,7))\n",
    "labels = ['X', 'Y', 'Z']\n",
    "colors = ['tab:orange','tab:blue','tab:green']\n",
    "\n",
    "for anr in range(3):\n",
    "    ax[anr].plot(time, filtnorm[anr], label=labels[anr], linewidth=0.5, color=colors[anr], alpha=0.5)\n",
    "    ax[anr].legend(loc='lower right', fontsize=14)\n",
    "ax[0].set_title('X - Lateral - side to side')\n",
    "ax[1].set_title('Y - Vertical - up down')\n",
    "ax[2].set_title('Z - Frontal - forwards backwards')\n",
    "\n",
    "fig.subplots_adjust(hspace=0.5)"
   ]
  },
  {
   "cell_type": "markdown",
   "metadata": {},
   "source": [
    "### Plot just one minute of the filtered and normalized data for comparison"
   ]
  },
  {
   "cell_type": "code",
   "execution_count": null,
   "metadata": {},
   "outputs": [],
   "source": [
    "pt = 14\n",
    "kho_aud = khoparzi_audience[pt]\n",
    "kho_filtnorm = khoparzi_normalized[pt]\n",
    "\n",
    "# extract 1-min\n",
    "dance_excerpt = kho_aud.sort_index().loc['2020-07-10 14:45' : '2020-07-10 14:46', :] # Real times: '2020-07-10 14:36' : '2020-07-10 15:04'\n",
    "\n",
    "\n",
    "dance_excerpt_filtnorm = []\n",
    "for anr in range(3):\n",
    "    ax = kho_filtnorm[anr]\n",
    "    excerpt = ax[1:7200] # specifies the indices for specifying the time.\n",
    "    dance_excerpt_filtnorm.append(excerpt)\n"
   ]
  },
  {
   "cell_type": "code",
   "execution_count": null,
   "metadata": {},
   "outputs": [],
   "source": [
    "# estimate avg sampling rate\n",
    "freq = int(round(1 / np.mean(np.diff(dance_excerpt.timestamp)), 3) * 1000)\n",
    "print('sr:', freq, 'Hz')"
   ]
  },
  {
   "cell_type": "code",
   "execution_count": null,
   "metadata": {},
   "outputs": [],
   "source": [
    "# create x-axis\n",
    "time = np.linspace(0, (len(dance_excerpt)/freq)/60, len(dance_excerpt)) # minutes\n",
    "\n",
    "fig, ax = plt.subplots(nrows=3, ncols=1, figsize=(16,7))\n",
    "labels = ['X', 'Y', 'Z']\n",
    "colors = ['tab:orange','tab:blue','tab:green']\n",
    "\n",
    "for anr in range(3):\n",
    "    ax[anr].plot(time, dance_excerpt_filtnorm[anr], label=labels[anr], linewidth=0.5, color=colors[anr], alpha=0.5)\n",
    "    ax[anr].legend(loc='lower right', fontsize=14)\n",
    "ax[0].set_title('X - Lateral - side to side')\n",
    "ax[1].set_title('Y - Vertical - up down')\n",
    "ax[2].set_title('Z - Frontal - forwards backwards')\n",
    "\n",
    "fig.subplots_adjust(hspace=0.5)"
   ]
  },
  {
   "cell_type": "markdown",
   "metadata": {},
   "source": [
    "## 5. Feature Extraction\n",
    "### 5.1. Quantity of Motion (QoM)"
   ]
  },
  {
   "cell_type": "code",
   "execution_count": null,
   "metadata": {},
   "outputs": [],
   "source": [
    "def qom(time, x, y, z):\n",
    "    qom=[]\n",
    "    for i in range(len(time)-1):\n",
    "        id1 = sum((x[i],y[i],z[i]))\n",
    "        id2 = sum((x[i+1],y[i+1],z[i+1]))\n",
    "        diff = abs(id2-id1)\n",
    "        qom.append(diff)\n",
    "    return qom\n",
    "\n",
    "#Note that this function can be written more elegantly"
   ]
  },
  {
   "cell_type": "code",
   "execution_count": null,
   "metadata": {},
   "outputs": [],
   "source": [
    "#Filter QoM for a better representation\n",
    "from scipy.signal import savgol_filter as savgol\n",
    "\n",
    "#normalized QoM:\n",
    "qom_n = normalize(qom(time,filtnorm[0],filtnorm[1],filtnorm[2])) \n",
    "\n",
    "# normalized (filtered) QoM trend:\n",
    "qom_filt_order = 1\n",
    "qom_win = 1999 #reduce for more resolution\n",
    "qom_fn = normalize(savgol(qom(time,filtnorm[0],filtnorm[1],filtnorm[2]), qom_win, qom_filt_order)) \n",
    "                                                                \n",
    "\n",
    "def plot_qoms(qom_n, qom_fn, fontsize=15):\n",
    "\n",
    "    plt.figure(figsize=(24,7))\n",
    "    plt.plot(time[:-1], qom_n, alpha=0.2, color='r', label='QoM')\n",
    "    plt.plot(time[:-1], qom_fn, alpha=0.7, color='b', label='QoM Trend')\n",
    "    plt.xticks(fontsize=15)\n",
    "    plt.xlabel('Time (m)',fontsize=fontsize)\n",
    "    plt.yticks(fontsize=15)\n",
    "    plt.ylabel('Amplitude',fontsize=fontsize)\n",
    "    plt.legend(loc='upper right', fontsize=fontsize)"
   ]
  },
  {
   "cell_type": "code",
   "execution_count": null,
   "metadata": {},
   "outputs": [],
   "source": [
    "plot_qoms(qom_n, qom_fn)"
   ]
  },
  {
   "cell_type": "code",
   "execution_count": null,
   "metadata": {},
   "outputs": [],
   "source": [
    "# Planar acceleration\n",
    "\n",
    "fig, ax = plt.subplots(nrows=1, ncols=3, figsize=(16,7))\n",
    "\n",
    "ax[0].plot(filtnorm[0], filtnorm[2], color='green', alpha=0.3, label='XZ')\n",
    "ax[1].plot(filtnorm[0], filtnorm[1], color='red', alpha=0.3, label='XY')\n",
    "ax[2].plot(filtnorm[1], filtnorm[2], color='blue', alpha=0.3, label='YZ')\n",
    "\n",
    "[ax[n].legend(loc='upper right') for n in range(3)]\n",
    "\n",
    "fig.subplots_adjust(wspace=.5)"
   ]
  },
  {
   "cell_type": "markdown",
   "metadata": {},
   "source": [
    "### 5.2. Motion peaks"
   ]
  },
  {
   "cell_type": "code",
   "execution_count": null,
   "metadata": {},
   "outputs": [],
   "source": [
    "import sensormotion as sm\n",
    "\n",
    "def avg(axes_list):\n",
    "    return np.sum([axes_list[0], axes_list[1], axes_list[2]], axis=0) / 3\n",
    "\n",
    "peak_times, peak_values = sm.peak.find_peaks(time=time, signal=avg(filtnorm), peak_type='valley',\n",
    "                                             min_val=0.6, min_dist=freq//2, \n",
    "                                             plot=True, fig_size=(24,5))"
   ]
  },
  {
   "cell_type": "markdown",
   "metadata": {},
   "source": [
    "### 5.3. Periodograms"
   ]
  },
  {
   "cell_type": "code",
   "execution_count": null,
   "metadata": {},
   "outputs": [],
   "source": [
    "#Note: Also try zero-crossings and autocorrelation"
   ]
  },
  {
   "cell_type": "code",
   "execution_count": null,
   "metadata": {},
   "outputs": [],
   "source": [
    "from scipy import signal\n",
    "\n",
    "periodograms=[]\n",
    "for i in range(3):\n",
    "    f, Pxx = signal.periodogram(filtnorm[i], fs=freq, window='hanning', scaling='spectrum')\n",
    "    periodograms.append((f,Pxx))"
   ]
  },
  {
   "cell_type": "code",
   "execution_count": null,
   "metadata": {},
   "outputs": [],
   "source": [
    "def plot_periods(periodogramz):\n",
    "    fig, ax = plt.subplots(nrows=1, ncols=3, figsize=(16,7))\n",
    "    colors = ['r','g', 'b']\n",
    "    for idx,(f,Pxx) in enumerate(periodogramz):\n",
    "        \n",
    "        ax[idx].plot(f, Pxx, color=colors[idx], alpha=0.4)\n",
    "        ax[idx].set_yscale('log') #Comment out for linear scale\n",
    "        ax[idx].set_xlabel('Frequency (Hz)')\n",
    "        ax[0].set_ylabel('Spectrum Amplitude')\n",
    "          \n",
    "    fig.subplots_adjust(wspace=.5)"
   ]
  },
  {
   "cell_type": "code",
   "execution_count": null,
   "metadata": {},
   "outputs": [],
   "source": [
    "plot_periods(periodograms)"
   ]
  },
  {
   "cell_type": "code",
   "execution_count": null,
   "metadata": {},
   "outputs": [],
   "source": [
    "def top_periods(f, Pxx):\n",
    "    '''f=[sample frequencies]; Pxx=[power spectrum of x]'''\n",
    "    tops={}\n",
    "    top_fq_indices = np.flip(np.argsort(Pxx), 0)[0:3]\n",
    "    freqs = f[top_fq_indices]\n",
    "    power = Pxx[top_fq_indices]\n",
    "    periods = 1 / np.array(freqs)\n",
    "    \n",
    "    for i in range(1,4):\n",
    "        tops['Period_{} (secs)'.format(i)] = round(periods[i-1], 2)\n",
    "        tops['Freq_{} (Hz)'.format(i)] = round(freqs[i-1], 3)\n",
    "        tops['Tempo_{} (BPM)'.format(i)] = round(freqs[i-1]*60, 2)\n",
    "        tops['Power_{} (A)'.format(i)] = format(power[i-1], 'f')\n",
    "        \n",
    "    return tops"
   ]
  },
  {
   "cell_type": "code",
   "execution_count": null,
   "metadata": {},
   "outputs": [],
   "source": [
    "x_periods = top_periods(periodograms[0][0], periodograms[0][1])\n",
    "y_periods = top_periods(periodograms[1][0], periodograms[1][1])\n",
    "z_periods = top_periods(periodograms[2][0], periodograms[2][1])"
   ]
  },
  {
   "cell_type": "code",
   "execution_count": null,
   "metadata": {},
   "outputs": [],
   "source": [
    "#x_periods\n",
    "#y_periods\n",
    "z_periods"
   ]
  },
  {
   "cell_type": "markdown",
   "metadata": {},
   "source": [
    "## 6. Audio"
   ]
  },
  {
   "cell_type": "code",
   "execution_count": null,
   "metadata": {},
   "outputs": [],
   "source": [
    "import librosa\n",
    "from librosa import display\n",
    "import IPython.display as ipd\n",
    "path = 'C:/Users/danasw/Documents/PhD/Research/MusicLab_Lockdown/Files_for_Research_Drive/Raw_Data/Audio/'"
   ]
  },
  {
   "cell_type": "markdown",
   "metadata": {},
   "source": [
    "## Get sampling rate"
   ]
  },
  {
   "cell_type": "code",
   "execution_count": null,
   "metadata": {},
   "outputs": [],
   "source": [
    "from scipy.io.wavfile import read as read_wav\n",
    "import os\n",
    "os.chdir(path) # change to the file directory\n",
    "rb_sampling_rate, data=read_wav( 'Renick_Bell.wav') # enter your filename\n",
    "print('Renick Bell sr: '+str(rb_sampling_rate))\n",
    "k_sampling_rate, data=read_wav( 'Khoparzi-Audio.wav') # enter your filename\n",
    "print('Khoparzi sr: '+str(k_sampling_rate))"
   ]
  },
  {
   "cell_type": "code",
   "execution_count": null,
   "metadata": {},
   "outputs": [],
   "source": [
    "renick_audio, sr = librosa.load(os.path.join(path, 'Renick_Bell.wav'), sr=44100) # include argument `duration=duration*60` if you wanr to cut the sound based on the motion data\n",
    "ipd.Audio(renick_audio, rate=sr)"
   ]
  },
  {
   "cell_type": "code",
   "execution_count": null,
   "metadata": {},
   "outputs": [],
   "source": [
    "khoparzi_audio, sr = librosa.load(os.path.join(path, 'Khoparzi-Audio.wav'), sr=48000) # include argument `duration=duration*60` if you wanr to cut the sound based on the motion data\n",
    "ipd.Audio(khoparzi_audio, rate=sr)"
   ]
  },
  {
   "cell_type": "markdown",
   "metadata": {},
   "source": [
    "### 6.1. Source separation\n",
    "### 6.2. Onset detection\n",
    "### 6.3. Tempo tracking"
   ]
  },
  {
   "cell_type": "code",
   "execution_count": null,
   "metadata": {},
   "outputs": [],
   "source": [
    "# Notes: Here I detect onset based on the decomposed percussive components. BUT, also use non-decomposed signal. \n",
    "# The outcome differs depending on the musical content\n",
    "# In addition, dynamic tempo tracking is a better option for rhythmically non-conventional musics"
   ]
  },
  {
   "cell_type": "code",
   "execution_count": null,
   "metadata": {},
   "outputs": [],
   "source": [
    "def onset_tempo(sound, sr=44100, hop_length=512, n_fft=2048, Normalize=True):\n",
    "    perc = librosa.effects.percussive(sound) #6.1.\n",
    "    onset_strength = librosa.onset.onset_strength(y=perc, sr=sr, hop_length=hop_length) #6.2.\n",
    "    onset_strength_n = normalize(onset_strength)\n",
    "    time_s = librosa.times_like(onset_strength, sr=sr, hop_length=hop_length, n_fft=n_fft)\n",
    "    tempo = librosa.beat.tempo(onset_envelope=onset_strength, sr=sr) #6.3.\n",
    "    if Normalize:\n",
    "        return time_s, onset_strength_n, tempo\n",
    "    else:\n",
    "        return time_s, onset_strength, tempo"
   ]
  },
  {
   "cell_type": "code",
   "execution_count": null,
   "metadata": {},
   "outputs": [],
   "source": [
    "audio_features_renick = onset_tempo(renick_audio)"
   ]
  },
  {
   "cell_type": "code",
   "execution_count": null,
   "metadata": {},
   "outputs": [],
   "source": [
    "audio_features_khoparzi = onset_tempo(khoparzi_audio, sr = 48000)"
   ]
  },
  {
   "cell_type": "code",
   "execution_count": null,
   "metadata": {},
   "outputs": [],
   "source": [
    "print('Renick Tempo: %.i BPM'%(audio_features[2][0]))"
   ]
  },
  {
   "cell_type": "code",
   "execution_count": null,
   "metadata": {},
   "outputs": [],
   "source": [
    "print('Khoparzi Tempo: %.i BPM'%(audio_features[2][0]))"
   ]
  },
  {
   "cell_type": "code",
   "execution_count": null,
   "metadata": {},
   "outputs": [],
   "source": [
    "#Plot all together"
   ]
  },
  {
   "cell_type": "code",
   "execution_count": null,
   "metadata": {},
   "outputs": [],
   "source": [
    "peak_values_n = normalize(peak_values)\n",
    "\n",
    "fig, ax = plt.subplots(nrows=3, ncols=1, figsize=(16,7))\n",
    "\n",
    "ax[0].plot(audio_features[0], audio_features[1], alpha=0.4, linewidth=2.5, label='Audio onset strength', color='blue')\n",
    "\n",
    "ax[1].plot(peak_times, peak_values_n, alpha=0.4, linewidth=2.5, label='ACC peaks', color='red')\n",
    "\n",
    "ax[2].plot(time[:-1], qom_fn, alpha=0.4, linewidth=2.5, label='QoM trend', color='green')\n",
    "\n",
    "[ax[n].grid(True) for n in range(3)]\n",
    "[ax[n].legend(loc='lower center') for n in range(3)]"
   ]
  },
  {
   "cell_type": "markdown",
   "metadata": {},
   "source": [
    "## 7. Geo-location"
   ]
  },
  {
   "cell_type": "code",
   "execution_count": null,
   "metadata": {},
   "outputs": [],
   "source": [
    "df_geo = pd.read_csv(geo_dat,index_col=0)\n",
    "df_geo.head()"
   ]
  },
  {
   "cell_type": "code",
   "execution_count": null,
   "metadata": {},
   "outputs": [],
   "source": [
    "from mpl_toolkits.basemap import Basemap\n",
    "from geopy.geocoders import Nominatim\n",
    "\n",
    "def get_address(lat, long, api='geoapiExercises'):\n",
    "    geolocator = Nominatim(user_agent=api)\n",
    "    location = geolocator.reverse(str(lat)+ ', ' + str(long))\n",
    "    return location.address.split(', ')\n",
    "\n",
    "def get_coordinates(place, api='geoapiExercises', timeout=5):\n",
    "    geolocator = Nominatim(user_agent=api)\n",
    "    location = geolocator.geocode(place, timeout=timeout)\n",
    "    if not location:\n",
    "        return None, None\n",
    "    return location.latitude, location.longitude\n",
    "\n",
    "def plot_map(latitude, longitude, figsize=(10,10), markersize=12, fontsize=20, verbose=False):\n",
    "    address = get_address(latitude, longitude)\n",
    "    if verbose:\n",
    "        print(address)\n",
    "    address = address[-3:]\n",
    "    city_lat = get_coordinates(address[0])[0]\n",
    "    city_lon = get_coordinates(address[0])[1]\n",
    "    \n",
    "    fig = plt.figure(figsize=figsize)\n",
    "    m = Basemap(projection='lcc', resolution=None, \n",
    "                width=8E6, height=8E6,\n",
    "                lat_0 = city_lat, lon_0 = city_lon)\n",
    "    m.etopo(scale=1, alpha=0.5)\n",
    "    x, y = m(longitude, latitude)\n",
    "    plt.plot(x, y, 'ok', markersize=markersize)\n",
    "    plt.text(x, y, address[0], fontsize=fontsize)"
   ]
  },
  {
   "cell_type": "code",
   "execution_count": null,
   "metadata": {},
   "outputs": [],
   "source": [
    "plot_map(df_geo.latitude.values[0], df_geo.longitude.values[0], verbose=True)"
   ]
  },
  {
   "cell_type": "code",
   "execution_count": null,
   "metadata": {},
   "outputs": [],
   "source": []
  }
 ],
 "metadata": {
  "kernelspec": {
   "display_name": "Python 3 (Spyder)",
   "language": "python3",
   "name": "python3"
  },
  "language_info": {
   "codemirror_mode": {
    "name": "ipython",
    "version": 3
   },
   "file_extension": ".py",
   "mimetype": "text/x-python",
   "name": "python",
   "nbconvert_exporter": "python",
   "pygments_lexer": "ipython3",
   "version": "3.8.5"
  }
 },
 "nbformat": 4,
 "nbformat_minor": 4
}
