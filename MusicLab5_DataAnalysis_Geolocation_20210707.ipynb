{
 "cells": [
  {
   "cell_type": "markdown",
   "id": "60733738",
   "metadata": {},
   "source": [
    "# MusicLab 5 - GeoLocation Anonymization"
   ]
  },
  {
   "cell_type": "markdown",
   "id": "29900787",
   "metadata": {},
   "source": [
    "This notebook will:\n",
    "    \n",
    " 1. import the geolocation data\n",
    " 2. inspect the data\n",
    " 3. quantify motion (i.e. convert to distance from origin)\n",
    " 4. convert longitudes and latitudes to city and country to anonymize the data\n",
    " \n",
    "### Information on The Geolocation Data\n",
    "The CSV file containing GPS data consists of the following columns:\n",
    "\n",
    "1. time: the epoch timestamp. It can be converted online or in your programming language of choice.\n",
    "2. lat: the GPS latitude, ranging from 0 to 90 (in decimal degrees). It can be converted online.\n",
    "3. long: the GPS longitude, ranging from 0 to 180 (in decimal degrees).\n",
    "4. accuracy: the accuracy of the GPS measurement (in meters)"
   ]
  },
  {
   "cell_type": "markdown",
   "id": "2669cc77",
   "metadata": {},
   "source": [
    "## Import data"
   ]
  },
  {
   "cell_type": "code",
   "execution_count": null,
   "id": "9bb37470",
   "metadata": {},
   "outputs": [],
   "source": [
    "import os, fnmatch\n",
    "import numpy as np\n",
    "import pandas as pd\n",
    "import matplotlib.pyplot as plt\n",
    "%matplotlib inline"
   ]
  },
  {
   "cell_type": "code",
   "execution_count": null,
   "id": "4030c290",
   "metadata": {},
   "outputs": [],
   "source": [
    "import matplotlib as mpl\n",
    "mpl.rc('xtick', labelsize=14)     \n",
    "mpl.rc('ytick', labelsize=14)\n",
    "mpl.rcParams['font.size'] = 15\n",
    "mpl.rcParams['legend.fontsize'] = 20\n",
    "mpl.rcParams['figure.titlesize'] = 16"
   ]
  },
  {
   "cell_type": "code",
   "execution_count": null,
   "id": "1e92e335",
   "metadata": {},
   "outputs": [],
   "source": [
    "path = '/Users/danasw/Documents/PhD/Research/MusicLab_Lockdown/Files_for_Research_Drive/Raw_Data/Movement_Data/'\n",
    "datasets = ['Pt-0'+str(nr) for nr in range(1,10)]\n",
    "datasets = datasets+['Pt-'+str(nr) for nr in range(10,20)]"
   ]
  },
  {
   "cell_type": "code",
   "execution_count": null,
   "id": "2d4ae4a5",
   "metadata": {},
   "outputs": [],
   "source": [
    "def ffind(pattern, path):\n",
    "    result=[]\n",
    "    for root, dirs, files in os.walk(path):\n",
    "        for name in files:\n",
    "            if fnmatch.fnmatch(name, pattern):\n",
    "                result.append(os.path.join(root, name))\n",
    "    return result"
   ]
  },
  {
   "cell_type": "code",
   "execution_count": null,
   "id": "84ef4a07",
   "metadata": {},
   "outputs": [],
   "source": [
    "def GetLongestFile(dictionary):\n",
    "    return max((len(v), k) for k,v in dictionary.items())"
   ]
  },
  {
   "cell_type": "code",
   "execution_count": null,
   "id": "9f3b6620",
   "metadata": {},
   "outputs": [],
   "source": [
    "df_geo_dict={}\n",
    "df_geo_files={}\n",
    "for datset in range(0,19):\n",
    "    pt = datset+1\n",
    "    participant_dict = {}\n",
    "    file_dict = {}\n",
    "    n = 0\n",
    "    for dat in ffind('*.csv', os.path.join(path, datasets[datset])):\n",
    "        if 'Motion' in dat:\n",
    "            continue\n",
    "        elif 'geo' in dat:\n",
    "            print('Dataset #'+ str(pt) + ' Geo √')\n",
    "            df_geo = pd.read_csv(dat)\n",
    "            n+=1\n",
    "            participant_dict[n] = df_geo\n",
    "            file_dict[n] = os.path.relpath(dat)\n",
    "    # find the participants' longest motion file \n",
    "    if len(participant_dict)>0:\n",
    "        (v, k) = GetLongestFile(participant_dict)\n",
    "        longest = participant_dict[k]\n",
    "        # convert index to human readable datetime\n",
    "        longest.loc[:,\"datetime\"] = pd.to_datetime(longest.timestamp, unit='ms')\n",
    "        #longest = longest.set_index(['datetime']) # I did not set index to date time because during analysis problems were arising because there are multiple samples from the same datetime\n",
    "        df_geo_dict[pt] = longest\n",
    "        df_geo_files[pt] = file_dict[k]"
   ]
  },
  {
   "cell_type": "code",
   "execution_count": null,
   "id": "f2f52629",
   "metadata": {},
   "outputs": [],
   "source": [
    "df_geo = df_geo_dict[1]\n",
    "df_geo.head()"
   ]
  },
  {
   "cell_type": "markdown",
   "id": "f8c0aab0",
   "metadata": {},
   "source": [
    "## Inspect data\n",
    "https://gsp.humboldt.edu/olm/Lessons/GIS/01%20SphericalCoordinates/Latitude_and_Longitude.html  \n",
    "Latitude and longitude: angles measured with the centre of the Earth as an origin   \n",
    "Longitude: angle from the prime meridian, measured to the east    \n",
    "Latitudes: angle up from the equator (latitudes to the south are negative)   \n",
    "Useful resources for anonymization:   \n",
    "https://stackoverflow.com/questions/49400430/anonymizing-geo-location-coordinates-in-python"
   ]
  },
  {
   "cell_type": "code",
   "execution_count": null,
   "id": "f7e1e1ab",
   "metadata": {},
   "outputs": [],
   "source": [
    "from mpl_toolkits.basemap import Basemap\n",
    "from geopy.geocoders import Nominatim\n",
    "\n",
    "def get_address(lat, long, api='geoapiExercises'):\n",
    "    geolocator = Nominatim(user_agent=api)\n",
    "    location = geolocator.reverse(str(lat)+ ', ' + str(long))\n",
    "    return location.address.split(', ')\n",
    "\n",
    "def get_address_raw(lat, long, api='geoapiExercises'):\n",
    "    geolocator = Nominatim(user_agent=api)\n",
    "    location = geolocator.reverse(str(lat)+ ', ' + str(long), language = \"en\")\n",
    "    return location.raw\n",
    "\n",
    "def get_coordinates(place, api='geoapiExercises', timeout=5):\n",
    "    geolocator = Nominatim(user_agent=api)\n",
    "    location = geolocator.geocode(place, timeout=timeout)\n",
    "    if not location:\n",
    "        return None, None\n",
    "    return location.latitude, location.longitude"
   ]
  },
  {
   "cell_type": "markdown",
   "id": "3da8d783",
   "metadata": {},
   "source": [
    "## Quantify movement from data\n",
    "Convert origin to a 0, 0 location and track motion based on that origin"
   ]
  },
  {
   "cell_type": "code",
   "execution_count": null,
   "id": "a789daa3",
   "metadata": {},
   "outputs": [],
   "source": [
    "df_geo = df_geo_dict[1]\n",
    "df_geo.describe()"
   ]
  },
  {
   "cell_type": "code",
   "execution_count": null,
   "id": "41cfaff0",
   "metadata": {},
   "outputs": [],
   "source": [
    "from geopy import distance"
   ]
  },
  {
   "cell_type": "code",
   "execution_count": null,
   "id": "3533c281",
   "metadata": {},
   "outputs": [],
   "source": [
    "def dist_from_origin(latitude,longitude):\n",
    "    origin = df_geo.loc[0, [\"latitude\", \"longitude\"]]\n",
    "    point_b = (latitude, longitude)\n",
    "    return distance.distance(origin, point_b).m"
   ]
  },
  {
   "cell_type": "code",
   "execution_count": null,
   "id": "e7bb825e",
   "metadata": {},
   "outputs": [],
   "source": [
    "for k,v in df_geo_dict.items():\n",
    "    df_geo = v\n",
    "    df_geo['distance'] = df_geo.apply(lambda row: dist_from_origin(row.latitude, row.longitude), axis = 1)"
   ]
  },
  {
   "cell_type": "code",
   "execution_count": null,
   "id": "c95b1d7e",
   "metadata": {},
   "outputs": [],
   "source": [
    "df_geo_anon_dict = {}\n",
    "for k,v in df_geo_dict.items():\n",
    "    df_geo = v.drop([\"latitude\", \"longitude\"], axis = 1)\n",
    "    df_geo_anon_dict[k] = df_geo"
   ]
  },
  {
   "cell_type": "markdown",
   "id": "479f9962",
   "metadata": {},
   "source": [
    "### Save "
   ]
  },
  {
   "cell_type": "code",
   "execution_count": null,
   "id": "5807dc5b",
   "metadata": {},
   "outputs": [],
   "source": [
    "path = '/Users/danasw/Documents/PhD/Research/MusicLab_Lockdown/Files_for_Research_Drive/Processed_Data/'\n",
    "for k,v in df_geo_anon_dict.items():\n",
    "    df_geo = v\n",
    "    if k <10:\n",
    "        fname = path+'Pt-0'+str(k)+\"geoLocation_anonymized.csv\"\n",
    "    if k >=10:\n",
    "        fname = path+'Pt-'+str(k)+\"geoLocation_anonymized.csv\"\n",
    "    df_geo.to_csv(fname)"
   ]
  },
  {
   "cell_type": "markdown",
   "id": "b015300e",
   "metadata": {},
   "source": [
    "## Anonymize location by converting to city and country\n",
    "Gets the address of the precise coordinates, extract city and country, and save those in a spreadsheet"
   ]
  },
  {
   "cell_type": "code",
   "execution_count": null,
   "id": "fe4f9483",
   "metadata": {},
   "outputs": [],
   "source": [
    "cities = []\n",
    "for k, v in df_geo_dict.items():\n",
    "    lat = v.latitude[0]\n",
    "    long = v.longitude[0]\n",
    "    raw_address = get_address_raw(lat, long)\n",
    "    raw = raw_address[\"address\"]\n",
    "    if \"city\" in raw.keys():\n",
    "        city = raw_address[\"address\"][\"city\"]#[value for key, value in raw.items() if 'city' in key.lower()]\n",
    "    if \"city\" not in raw.keys() and \"town\" in raw.keys():\n",
    "        city = raw_address[\"address\"][\"town\"]#[value for key, value in raw.items() if 'city' in key.lower()]\n",
    "    if \"city\" not in raw.keys() and \"village\" in raw.keys():\n",
    "        city = raw_address[\"address\"][\"village\"]#[value for key, value in raw.items() if 'city' in key.lower()]\n",
    "    country = raw_address[\"address\"][\"country\"]\n",
    "    if len(city)<1:\n",
    "        city = [\"Unknown\"]\n",
    "    cities.append([k, city, country])"
   ]
  },
  {
   "cell_type": "code",
   "execution_count": null,
   "id": "a3c6d8c6",
   "metadata": {},
   "outputs": [],
   "source": [
    "df_cities = pd.DataFrame(cities, columns = (\"Participant\",\"City\", \"Country\"))"
   ]
  },
  {
   "cell_type": "code",
   "execution_count": null,
   "id": "e157e5e3",
   "metadata": {},
   "outputs": [],
   "source": [
    "path = '/Users/danasw/Documents/PhD/Research/MusicLab_Lockdown/Files_for_Research_Drive/Processed_Data/'\n",
    "fname = path+'Cities_Countries.csv'\n",
    "df_cities.to_csv(fname)"
   ]
  },
  {
   "cell_type": "markdown",
   "id": "bd664b0b",
   "metadata": {},
   "source": [
    "## Make a map to visualize geolocation "
   ]
  },
  {
   "cell_type": "markdown",
   "id": "1fa146d5",
   "metadata": {},
   "source": [
    "### Create list of latitudes and longitudes of cities and countries"
   ]
  },
  {
   "cell_type": "code",
   "execution_count": null,
   "id": "a2c8c98f",
   "metadata": {},
   "outputs": [],
   "source": [
    "latitude, longitude, city_country = [],[], []\n",
    "for n in range(df_cities.shape[0]):\n",
    "    place = str(df_cities.iloc[n, 1])+', '+ str(df_cities.iloc[n, 2])\n",
    "    [lat, lng] = get_coordinates(place)\n",
    "    latitude.append(lat)\n",
    "    longitude.append(lng)\n",
    "    city_country.append([place])\n",
    "df_cities[\"latitude\"] = latitude\n",
    "df_cities[\"longitude\"] = longitude\n",
    "#df_cities[\"city_country\"] = city_country"
   ]
  },
  {
   "cell_type": "code",
   "execution_count": null,
   "id": "3f0ed29a",
   "metadata": {},
   "outputs": [],
   "source": [
    "count = df_cities.iloc[:, 1:].value_counts() # index 1: removes the participant number"
   ]
  },
  {
   "cell_type": "code",
   "execution_count": null,
   "id": "ce1d0a96",
   "metadata": {},
   "outputs": [],
   "source": [
    "count_city = count.to_frame().rename(columns = {0:'Count'}).reset_index()"
   ]
  },
  {
   "cell_type": "code",
   "execution_count": null,
   "id": "51b98d0e",
   "metadata": {},
   "outputs": [],
   "source": [
    "def plot_map(count_dataframe, figsize=(10,10), markersize=12, fontsize=20, verbose=False):\n",
    "    \n",
    "    fig = plt.figure(figsize=figsize)\n",
    "    m = Basemap(projection='cyl', resolution=None, \n",
    "                llcrnrlat=-90, urcrnrlat=90,\n",
    "            llcrnrlon=-180, urcrnrlon=180)#,\n",
    "                #lat_0 = city_lat, lon_0 = city_lon)\n",
    "    scale = 0.2\n",
    "    m.shadedrelief(scale=scale)\n",
    "\n",
    "    # lats and longs are returned as a dictionary\n",
    "    lats = m.drawparallels(np.linspace(-90, 90, 13))\n",
    "    lons = m.drawmeridians(np.linspace(-180, 180, 13))\n",
    "\n",
    "    # keys contain the plt.Line2D instances\n",
    "    lat_lines = chain(*(tup[1][0] for tup in lats.items()))\n",
    "    lon_lines = chain(*(tup[1][0] for tup in lons.items()))\n",
    "    all_lines = chain(lat_lines, lon_lines)\n",
    "\n",
    "    # cycle through these lines and set the desired style\n",
    "    for line in all_lines:\n",
    "        line.set(linestyle='-', alpha=0.3, color='w')\n",
    "\n",
    "    \n",
    "    for n in range(len(count_dataframe)):\n",
    "        city = count_dataframe.City[n]\n",
    "        country = count_dataframe.Country[n]\n",
    "        latitude = count_dataframe.latitude[n]\n",
    "        longitude = count_dataframe.longitude[n]\n",
    "        count = count_dataframe.Count[n]\n",
    "       \n",
    "        x, y = m(longitude, latitude)\n",
    "        plt.plot(x, y, 'ok', markersize=markersize)\n",
    "        if verbose:\n",
    "                plt.text(x, y, str(city)+', '+ str(country)+', n = '+str(count), fontsize=fontsize)\n",
    "        elif count>1: \n",
    "            plt.text(x-5, y+5,str(city)+', '+ str(country)+', n = '+str(count), fontsize=fontsize)"
   ]
  },
  {
   "cell_type": "code",
   "execution_count": null,
   "id": "d42613f1",
   "metadata": {},
   "outputs": [],
   "source": [
    "# change inline to  qt5 if need to save the figure\n",
    "%matplotlib inline \n",
    "plot_map(count_city, figsize = (10,7), markersize = 5, fontsize = 10, verbose = False)"
   ]
  },
  {
   "cell_type": "code",
   "execution_count": null,
   "id": "118eac7b",
   "metadata": {},
   "outputs": [],
   "source": [
    "%matplotlib qt5 \n",
    "plot_map(count_city, figsize = (10,5), markersize = 5, fontsize = 15, verbose = False)"
   ]
  },
  {
   "cell_type": "code",
   "execution_count": null,
   "id": "ce1949df",
   "metadata": {},
   "outputs": [],
   "source": [
    "plt.savefig('Map-of-Participants-4.png') # matplotlib inline doens't allow saving plt therefore make sure the backend is changed before drawing the plot."
   ]
  }
 ],
 "metadata": {
  "kernelspec": {
   "display_name": "Python 3 (Spyder)",
   "language": "python3",
   "name": "python3"
  },
  "language_info": {
   "codemirror_mode": {
    "name": "ipython",
    "version": 3
   },
   "file_extension": ".py",
   "mimetype": "text/x-python",
   "name": "python",
   "nbconvert_exporter": "python",
   "pygments_lexer": "ipython3",
   "version": "3.8.5"
  }
 },
 "nbformat": 4,
 "nbformat_minor": 5
}
