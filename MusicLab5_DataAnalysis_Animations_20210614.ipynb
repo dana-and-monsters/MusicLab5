{
 "cells": [
  {
   "cell_type": "markdown",
   "id": "1a21742a",
   "metadata": {},
   "source": [
    "# MusicLab Notebook for Data Analysis - RPPW Animations"
   ]
  },
  {
   "cell_type": "markdown",
   "id": "2d5ba901",
   "metadata": {},
   "source": [
    "## Test loading pickle files with the excerpt data frames"
   ]
  },
  {
   "cell_type": "markdown",
   "id": "c7e5328f",
   "metadata": {},
   "source": [
    "### Import libraries"
   ]
  },
  {
   "cell_type": "code",
   "execution_count": null,
   "id": "12a4c3e5",
   "metadata": {},
   "outputs": [],
   "source": [
    "import os\n",
    "import pickle \n",
    "import numpy as np\n",
    "import pandas as pd\n",
    "import matplotlib.pyplot as plt\n",
    "from matplotlib.animation import FuncAnimation"
   ]
  },
  {
   "cell_type": "markdown",
   "id": "3fe97610",
   "metadata": {},
   "source": [
    "### Import data"
   ]
  },
  {
   "cell_type": "code",
   "execution_count": null,
   "id": "9a1fc825",
   "metadata": {},
   "outputs": [],
   "source": [
    "# Open dict from pickle\n",
    "fname = \"renick_audience_excerpt_2021-06-14.pickle\"\n",
    "with open(fname, 'rb') as handle: \n",
    "    renick_audience_excerpt = pickle.load(handle)"
   ]
  },
  {
   "cell_type": "code",
   "execution_count": null,
   "id": "8d437460",
   "metadata": {},
   "outputs": [],
   "source": [
    "# Open dict from pickle\n",
    "fname = \"khoparzi_audience_excerpt_2021-06-14.pickle\"\n",
    "with open(fname, 'rb') as handle: \n",
    "    khoparzi_audience_excerpt = pickle.load(handle)"
   ]
  },
  {
   "cell_type": "markdown",
   "id": "78dd3ec4",
   "metadata": {},
   "source": [
    "## Animation Tutorial\n",
    "Try following the animation tutorial from here: https://pythonforundergradengineers.com/live-plotting-with-matplotlib.html"
   ]
  },
  {
   "cell_type": "markdown",
   "id": "ac35f27d",
   "metadata": {},
   "source": [
    "### Create a static plot"
   ]
  },
  {
   "cell_type": "code",
   "execution_count": null,
   "id": "1415d4aa",
   "metadata": {},
   "outputs": [],
   "source": [
    "## start with pt = 13\n",
    "pt = 13\n",
    "df_motion = khoparzi_audience_excerpt[pt].sort_index().loc['2020-07-10 14:39' : '2020-07-10 14:40', :] "
   ]
  },
  {
   "cell_type": "code",
   "execution_count": null,
   "id": "94f4bd6e",
   "metadata": {},
   "outputs": [],
   "source": [
    "fig, ax = plt.subplots()\n",
    "\n",
    "ax.plot(df_motion['timestamp'], df_motion['x'])\n",
    "ax.plot(df_motion['timestamp'], df_motion['y'])\n",
    "ax.plot(df_motion['timestamp'], df_motion['z'])\n",
    "\n",
    "ax.set_xlabel('Timestamp')\n",
    "ax.set_ylabel('Motion')\n",
    "ax.set_title('Motion over time')\n",
    "    \n",
    "# save and show the plot\n",
    "fig.savefig('static_plot.png')\n",
    "plt.show()"
   ]
  },
  {
   "cell_type": "markdown",
   "id": "298279d3",
   "metadata": {},
   "source": [
    "### Create an animated line plot"
   ]
  },
  {
   "cell_type": "markdown",
   "id": "1eebb058",
   "metadata": {},
   "source": [
    "#### Prepare the data for animation"
   ]
  },
  {
   "cell_type": "code",
   "execution_count": null,
   "id": "8a5b1584",
   "metadata": {},
   "outputs": [],
   "source": [
    "#create empty lists for x and y data\n",
    "x = [] \n",
    "y = []\n",
    "z = []\n",
    "\n",
    "x_motion = df_motion['x'][:100]\n",
    "y_motion = df_motion['y'][:100]\n",
    "z_motion = df_motion['z'][:100]"
   ]
  },
  {
   "cell_type": "markdown",
   "id": "04cd65bc",
   "metadata": {},
   "source": [
    "### 2D Animation"
   ]
  },
  {
   "cell_type": "code",
   "execution_count": null,
   "id": "a2223cf1",
   "metadata": {},
   "outputs": [],
   "source": [
    "# create figure and axes objects\n",
    "fig, ax = plt.subplots()\n",
    "# function that draws each frame of the animation\n",
    "\n",
    "def animate(i):\n",
    "    \n",
    "    x.append(x_motion[i])\n",
    "    y.append(y_motion[i])\n",
    "    \n",
    "    ax.clear()\n",
    "    ax.plot(x,y)\n",
    "    ax.set_xlim([min(x_motion),max(x_motion)])\n",
    "    ax.set_ylim([min(y_motion),max(y_motion)])\n",
    "    \n",
    "# run the animation\n",
    "ani = FuncAnimation(fig, animate, frames=20, interval=500, repeat=False)\n",
    "\n",
    "plt.show()"
   ]
  },
  {
   "cell_type": "markdown",
   "id": "cf52f8d3",
   "metadata": {},
   "source": [
    "### 3D animation"
   ]
  },
  {
   "cell_type": "code",
   "execution_count": null,
   "id": "1ab2bd68",
   "metadata": {},
   "outputs": [],
   "source": [
    "import numpy as np\n",
    "import mpl_toolkits.mplot3d.axes3d as p3\n",
    "from matplotlib import animation"
   ]
  },
  {
   "cell_type": "code",
   "execution_count": null,
   "id": "7505a45c",
   "metadata": {},
   "outputs": [],
   "source": [
    "data = df_motion.loc[:, \"x\":\"z\"].values.T\n",
    "#data = data[:,:120] # 120 frames = 2 secnds bc sampling freq = 60 Hz"
   ]
  },
  {
   "cell_type": "code",
   "execution_count": null,
   "id": "4d5c45b0",
   "metadata": {},
   "outputs": [],
   "source": [
    "### Interval needs to be in relation to the sampling frequency\n",
    "# estimate avg sampling rate\n",
    "freq = int(round(1 / np.mean(np.diff(df_motion.timestamp)), 3) * 1000)\n",
    "print('sr:', freq, 'Hz')"
   ]
  },
  {
   "cell_type": "code",
   "execution_count": null,
   "id": "7a8576fd",
   "metadata": {},
   "outputs": [],
   "source": [
    "# convert freq domain to time domain\n",
    "t = 1/freq #seconds\n",
    "t_ms = t*1000 # ms "
   ]
  },
  {
   "cell_type": "code",
   "execution_count": null,
   "id": "cb0f7830",
   "metadata": {},
   "outputs": [],
   "source": [
    "fig = plt.figure()\n",
    "ax = p3.Axes3D(fig)\n",
    "\n",
    "def animate(i, data, line): # animation function\n",
    "    line.set_data(data[:2, i-25:i])\n",
    "    line.set_3d_properties(data[2, i-25:i])\n",
    "\n",
    "N = data.shape[1] # number cols\n",
    "line, = ax.plot(data[0, 0:1], data[1, 0:1], data[2, 0:1])\n",
    "\n",
    "# Setting the axes properties\n",
    "ax.set_xlim3d([min(x_motion),max(x_motion)])\n",
    "ax.set_xlabel('X')\n",
    "\n",
    "ax.set_ylim3d([min(y_motion), max(y_motion)])\n",
    "ax.set_ylabel('Y')\n",
    "\n",
    "ax.set_zlim3d([min(z_motion), max(z_motion)])\n",
    "ax.set_zlabel('Z')\n",
    "\n",
    "ani = animation.FuncAnimation(fig, animate, N, fargs=(data, line), interval=t_ms, blit=False) # fargs - additional arguments to pass to \n",
    "#ani.save('matplot003.gif', writer='imagemagick')\n",
    "plt.show()"
   ]
  },
  {
   "cell_type": "markdown",
   "id": "2a8958b6",
   "metadata": {},
   "source": [
    "## Cut Audio at First Sound"
   ]
  },
  {
   "cell_type": "code",
   "execution_count": null,
   "id": "c9084ab7",
   "metadata": {},
   "outputs": [],
   "source": [
    "import librosa"
   ]
  },
  {
   "cell_type": "code",
   "execution_count": null,
   "id": "6c47d328",
   "metadata": {},
   "outputs": [],
   "source": [
    "from librosa import display\n",
    "import IPython.display as ipd\n",
    "path = 'C:/Users/danasw/Documents/PhD/Research/MusicLab_Lockdown/Files_for_Research_Drive/Raw_Data/Audio/'"
   ]
  },
  {
   "cell_type": "markdown",
   "id": "c34e1ffe",
   "metadata": {},
   "source": [
    "#### Get sampling rate"
   ]
  },
  {
   "cell_type": "code",
   "execution_count": null,
   "id": "e9e9c7e4",
   "metadata": {},
   "outputs": [],
   "source": [
    "from scipy.io.wavfile import read as read_wav\n",
    "import os\n",
    "os.chdir(path) # change to the file directory\n",
    "rb_sampling_rate, data=read_wav( 'Renick_Bell.wav') # enter your filename\n",
    "print('Renick Bell sr: '+str(rb_sampling_rate))\n",
    "k_sampling_rate, data=read_wav( 'Khoparzi-Audio.wav') # enter your filename\n",
    "print('Khoparzi sr: '+str(k_sampling_rate))"
   ]
  },
  {
   "cell_type": "markdown",
   "id": "e36d8595",
   "metadata": {},
   "source": [
    "#### Load Audio"
   ]
  },
  {
   "cell_type": "code",
   "execution_count": null,
   "id": "b16184c0",
   "metadata": {},
   "outputs": [],
   "source": [
    "khoparzi_audio, sr = librosa.load(os.path.join(path, 'Khoparzi-Audio.wav'), sr=48000) # include argument `duration=duration*60` if you wanr to cut the sound based on the motion data\n",
    "ipd.Audio(khoparzi_audio, rate=sr)"
   ]
  },
  {
   "cell_type": "markdown",
   "id": "9ce3572b",
   "metadata": {},
   "source": [
    "#### Understanding librosa data structure\n",
    "When khoparzi_audio was loaded, it is an array with dimension 73610342. This is the number of samples and can be computed by the sampling rate x minutes x seconds. \n",
    "The librosa lib can convert frames_to_time() with a function."
   ]
  },
  {
   "cell_type": "code",
   "execution_count": null,
   "id": "afbfa780",
   "metadata": {},
   "outputs": [],
   "source": [
    "ten_sec = sr*10 # sampling rate times 10s\n",
    "ten_sec_seg = khoparzi_audio[:ten_sec]"
   ]
  },
  {
   "cell_type": "code",
   "execution_count": null,
   "id": "11715574",
   "metadata": {},
   "outputs": [],
   "source": [
    "w = display.waveshow(ten_sec_seg, sr = sr)"
   ]
  },
  {
   "cell_type": "code",
   "execution_count": null,
   "id": "284a2d30",
   "metadata": {},
   "outputs": [],
   "source": [
    "D = librosa.stft(ten_sec_seg) # STFT of audio\n",
    "S_db = librosa.amplitude_to_db(np.abs(D), ref = np.max)"
   ]
  },
  {
   "cell_type": "markdown",
   "id": "93b91337",
   "metadata": {},
   "source": [
    "### ID First Sound\n",
    "By hovering the mouse and shifting around the start sample to find the first instance of sound.  \n",
    "It appears that it starts at 9.5 seconds"
   ]
  },
  {
   "cell_type": "code",
   "execution_count": null,
   "id": "e5135b7d",
   "metadata": {},
   "outputs": [],
   "source": [
    "nine_pt_five = int(sr*9.5)\n",
    "first_sound = khoparzi_audio[nine_pt_five:ten_sec]\n",
    "w = display.waveshow(first_sound, sr = sr)\n",
    "# this indicates the sound starts 0.095 s after 9.5 s"
   ]
  },
  {
   "cell_type": "code",
   "execution_count": null,
   "id": "ad37dcfc",
   "metadata": {},
   "outputs": [],
   "source": [
    "sound_start = 9.595 # I found this value by using the waveshow and adjusting until the sound came right on the beginning. \n",
    "sound_st_samp = int(sound_start*sr)\n",
    "first_sound = khoparzi_audio[sound_st_samp:ten_sec]\n",
    "w = display.waveshow(first_sound, sr = sr)"
   ]
  },
  {
   "cell_type": "markdown",
   "id": "0ae57246",
   "metadata": {},
   "source": [
    "## Sync audio to animation\n",
    "### Load libraries"
   ]
  },
  {
   "cell_type": "code",
   "execution_count": null,
   "id": "5dea2f00",
   "metadata": {},
   "outputs": [],
   "source": [
    "import simpleaudio # this was installed through pip because the conda distributions were not working\n",
    "from pydub import AudioSegment, silence\n",
    "from pydub.playback import play\n",
    "import matplotlib.pyplot as plt\n",
    "from matplotlib.animation import FuncAnimation\n",
    "from scipy import signal\n",
    "import numpy as np\n",
    "import threading\n",
    "import time\n",
    "from datetime import timedelta"
   ]
  },
  {
   "cell_type": "markdown",
   "id": "f0a2ceb9",
   "metadata": {},
   "source": [
    "### Load audio in pydub"
   ]
  },
  {
   "cell_type": "code",
   "execution_count": null,
   "id": "cb39f312",
   "metadata": {},
   "outputs": [],
   "source": [
    "path = 'C:/Users/danasw/Documents/PhD/Research/MusicLab_Lockdown/Files_for_Research_Drive/Raw_Data/Audio/'\n",
    "f = os.path.join(path, 'Khoparzi-Audio.wav')\n",
    "khoparzi_audio = AudioSegment.from_file(file = f, \n",
    "                                  format = \"wav\") "
   ]
  },
  {
   "cell_type": "code",
   "execution_count": null,
   "id": "0a30f883",
   "metadata": {},
   "outputs": [],
   "source": [
    "# Change back to other directory\n",
    "path = 'C:/Users/danasw/Documents/PhD/Research/MusicLab_Lockdown/Files_for_Research_Drive/Code/Data_Analysis/MusicLab5-master'\n",
    "os.chdir(path) # change to the file directory"
   ]
  },
  {
   "cell_type": "markdown",
   "id": "52808f51",
   "metadata": {},
   "source": [
    "### Sync music recording to motion \n",
    "To do this, you just need to make sure they are cut at the same place. The first sample in the motion recording is when participants first heard the first sound.  \n",
    "Therefore you need to cut the audio recording to the first sound and then you know that the beginning of the audio and end of the audio line up with the beginning and end of the motion signal"
   ]
  },
  {
   "cell_type": "code",
   "execution_count": null,
   "id": "7afd8cac",
   "metadata": {},
   "outputs": [],
   "source": [
    "sound_start_ms = sound_start * 1000  # sound_start is in seconds so converted to ms here"
   ]
  },
  {
   "cell_type": "code",
   "execution_count": null,
   "id": "c8a375e1",
   "metadata": {},
   "outputs": [],
   "source": [
    "khoparzi_performance = khoparzi_audio[sound_start_ms:]"
   ]
  },
  {
   "cell_type": "markdown",
   "id": "1a665dd1",
   "metadata": {},
   "source": [
    "### Select start and stop"
   ]
  },
  {
   "cell_type": "code",
   "execution_count": null,
   "id": "41a4e1f9",
   "metadata": {},
   "outputs": [],
   "source": [
    "start = pd.to_datetime('2020-07-10 14:39')\n",
    "stop = pd.to_datetime('2020-07-10 14:40')"
   ]
  },
  {
   "cell_type": "code",
   "execution_count": null,
   "id": "0991e1e2",
   "metadata": {},
   "outputs": [],
   "source": [
    "first_valid_index = df_motion.first_valid_index()\n",
    "time_to_start = start-first_valid_index\n",
    "time_to_stop = stop-first_valid_index"
   ]
  },
  {
   "cell_type": "markdown",
   "id": "1f9d703f",
   "metadata": {},
   "source": [
    "### Pydub indexes in milliseconds"
   ]
  },
  {
   "cell_type": "code",
   "execution_count": null,
   "id": "d8aab982",
   "metadata": {},
   "outputs": [],
   "source": [
    "ms_to_start = int(time_to_start.total_seconds())*1000\n",
    "ms_to_stop = int(time_to_stop.total_seconds())*1000"
   ]
  },
  {
   "cell_type": "code",
   "execution_count": null,
   "id": "f802d7d8",
   "metadata": {},
   "outputs": [],
   "source": [
    "audio_excerpt = khoparzi_performance[ms_to_start:ms_to_stop] # 1-minute"
   ]
  },
  {
   "cell_type": "code",
   "execution_count": null,
   "id": "ce3a31a4",
   "metadata": {},
   "outputs": [],
   "source": [
    "sampling_rate = audio_excerpt.frame_rate\n",
    "song_length = audio_excerpt.duration_seconds\n",
    "left = audio_excerpt.split_to_mono()[0]\n",
    "x = left.get_array_of_samples()"
   ]
  },
  {
   "cell_type": "code",
   "execution_count": null,
   "id": "cc6078da",
   "metadata": {},
   "outputs": [],
   "source": [
    "# Save audio excerpt\n",
    "out = audio_excerpt.export(\"test_audio.wav\", format = \"wav\")\n",
    "out.close()"
   ]
  },
  {
   "cell_type": "markdown",
   "id": "b086e837",
   "metadata": {},
   "source": [
    "### Animation of Spectrogram with music\n",
    "Got the code from here to make example of music and animation sync: https://stackoverflow.com/questions/61109473/synchronizing-audio-and-animation-in-python"
   ]
  },
  {
   "cell_type": "code",
   "execution_count": null,
   "id": "799dccef",
   "metadata": {},
   "outputs": [],
   "source": [
    "wav_file = audio_excerpt\n",
    "\n",
    "# Fourier transform\n",
    "f, t, Zxx = signal.stft(x, fs=sampling_rate, nperseg=8820, noverlap=5292)\n",
    "y = np.abs(Zxx.transpose())\n",
    "\n",
    "# Setup a separate thread to play the music\n",
    "music_thread = threading.Thread(target=play, args=(wav_file,))\n",
    "\n",
    "# Build the figure\n",
    "fig = plt.figure(figsize=(14, 6))\n",
    "plt.style.use('seaborn-bright')\n",
    "ax = plt.axes(xlim=[0, 4000], ylim=[0, 3000])\n",
    "line1, = ax.plot([], [])\n",
    "\n",
    "# Matplotlib function to initialize animation\n",
    "def init():\n",
    "    global annotation1, annotation2\n",
    "    line1.set_data([], [])\n",
    "    annotation1 = plt.annotate(\"Music: {}\".format(\"\"), xy=(0.2, 0.8), xycoords='figure fraction')\n",
    "    annotation2 = plt.annotate(\"Animation: {}\".format(\"\"), xy=(0.6, 0.8), xycoords='figure fraction')\n",
    "    return line1,\n",
    "\n",
    "# Function for the animation\n",
    "def animate(i):\n",
    "    \n",
    "    global music_start, annotation1, annotation2\n",
    "    \n",
    "    if i == 0:\n",
    "        music_thread.start()\n",
    "        music_start = time.perf_counter()\n",
    "        \n",
    "    i = round((time.perf_counter() - music_start)/song_length * t.size)\n",
    "    line1.set_data(f, y[i])\n",
    "    \n",
    "    annotation1.set_text(\"Music: {}\".format(timedelta(seconds=(time.perf_counter() - music_start))))\n",
    "    annotation2.set_text(\"Animation: {}\".format(timedelta(seconds=i / t.size * song_length)))\n",
    "    return line1,\n",
    "\n",
    "anim = FuncAnimation(fig, animate, init_func=init, interval=55)\n",
    "plt.show()"
   ]
  },
  {
   "cell_type": "markdown",
   "id": "9dccb99a",
   "metadata": {},
   "source": [
    "### Make 3D animation of movement with audio signal "
   ]
  },
  {
   "cell_type": "markdown",
   "id": "755b38b9",
   "metadata": {},
   "source": [
    "Synchronize the audio and motion"
   ]
  },
  {
   "cell_type": "code",
   "execution_count": null,
   "id": "cc71d4c6",
   "metadata": {},
   "outputs": [],
   "source": [
    "df_motion = khoparzi_audience_excerpt[pt]\n",
    "motion_excerpt = df_motion[start:stop]"
   ]
  },
  {
   "cell_type": "code",
   "execution_count": null,
   "id": "a59e6ddd",
   "metadata": {},
   "outputs": [],
   "source": [
    "### Interval needs to be in relation to the sampling frequency\n",
    "# estimate avg sampling rate\n",
    "freq = int(round(1 / np.mean(np.diff(motion_excerpt.timestamp)), 3) * 1000)\n",
    "print('sr:', freq, 'Hz')"
   ]
  },
  {
   "cell_type": "code",
   "execution_count": null,
   "id": "6867fc2b",
   "metadata": {},
   "outputs": [],
   "source": [
    "# convert freq domain to time domain\n",
    "t = 1/freq #seconds\n",
    "t_ms = t*1000 # ms "
   ]
  },
  {
   "cell_type": "code",
   "execution_count": null,
   "id": "504a0ef7",
   "metadata": {},
   "outputs": [],
   "source": [
    "# Motion\n",
    "data = motion_excerpt.loc[:, \"x\":\"z\"].values.T\n",
    "\n",
    "x_motion = data[0]\n",
    "y_motion = data[1]\n",
    "z_motion = data[2]"
   ]
  },
  {
   "cell_type": "code",
   "execution_count": null,
   "id": "94299923",
   "metadata": {},
   "outputs": [],
   "source": [
    "# Setup a separate thread to play the music\n",
    "audio = audio_excerpt"
   ]
  },
  {
   "cell_type": "markdown",
   "id": "9c7fafae",
   "metadata": {},
   "source": [
    "### Run this code for audio and video in python. "
   ]
  },
  {
   "cell_type": "code",
   "execution_count": null,
   "id": "c6a7c2cc",
   "metadata": {},
   "outputs": [],
   "source": [
    "music_thread = threading.Thread(target=play, args=(audio,))\n",
    "fig = plt.figure()\n",
    "ax = p3.Axes3D(fig)\n",
    "\n",
    "def animate(i, data, line): # animation function\n",
    "    global music_start\n",
    "    \n",
    "    if i == 0:\n",
    "        music_thread.start()\n",
    "        music_start = time.perf_counter()\n",
    "        \n",
    "    line.set_data(data[:2, i-25:i])\n",
    "    line.set_3d_properties(data[2, i-25:i])\n",
    "\n",
    "N = data.shape[1] # number cols\n",
    "line, = ax.plot(data[0, 0:1], data[1, 0:1], data[2, 0:1])\n",
    "\n",
    "# Setting the axes properties\n",
    "ax.set_xlim3d([min(x_motion),max(x_motion)])\n",
    "ax.set_xlabel('X')\n",
    "\n",
    "ax.set_ylim3d([min(y_motion), max(y_motion)])\n",
    "ax.set_ylabel('Y')\n",
    "\n",
    "ax.set_zlim3d([min(z_motion), max(z_motion)])\n",
    "ax.set_zlabel('Z')\n",
    "\n",
    "ani = animation.FuncAnimation(fig, animate, N, fargs=(data, line), interval=t_ms, blit=False) # fargs - additional arguments to pass to animate\n",
    "\n",
    "plt.show()"
   ]
  },
  {
   "cell_type": "markdown",
   "id": "53f0c26f",
   "metadata": {},
   "source": [
    "### Run this code for saving the video without the music. "
   ]
  },
  {
   "cell_type": "code",
   "execution_count": null,
   "id": "e83ac17f",
   "metadata": {},
   "outputs": [],
   "source": [
    "### Try FuncAnim without music\n",
    "fig = plt.figure()\n",
    "ax = p3.Axes3D(fig)\n",
    "\n",
    "def animate(i, data, line): # animation function\n",
    "           \n",
    "    line.set_data(data[:2, i-25:i])\n",
    "    line.set_3d_properties(data[2, i-25:i])\n",
    "\n",
    "N = data.shape[1] # number cols\n",
    "line, = ax.plot(data[0, 0:1], data[1, 0:1], data[2, 0:1])\n",
    "\n",
    "# Setting the axes properties\n",
    "ax.set_xlim3d([min(x_motion),max(x_motion)])\n",
    "ax.set_xlabel('X')\n",
    "\n",
    "ax.set_ylim3d([min(y_motion), max(y_motion)])\n",
    "ax.set_ylabel('Y')\n",
    "\n",
    "ax.set_zlim3d([min(z_motion), max(z_motion)])\n",
    "ax.set_zlabel('Z')\n",
    "\n",
    "ani = animation.FuncAnimation(fig, animate, N, fargs=(data, line), interval=t_ms, blit=False) # fargs - additional arguments to pass to animate\n",
    "\n",
    "#plt.show()"
   ]
  },
  {
   "cell_type": "code",
   "execution_count": null,
   "id": "a35fa53d",
   "metadata": {},
   "outputs": [],
   "source": [
    "#Writer = animation.writers['ffmpeg']\n",
    "writer = animation.FFMpegWriter(dpi = 72)"
   ]
  },
  {
   "cell_type": "code",
   "execution_count": null,
   "id": "f19fff72",
   "metadata": {},
   "outputs": [],
   "source": [
    "ani.save('test.mp4', writer=writer) # this returned a 1-min video"
   ]
  },
  {
   "cell_type": "markdown",
   "id": "40b55b2a",
   "metadata": {},
   "source": [
    "## Add the audio to the video with MoviePy\n",
    "It seems that including audio in matplotlib animation may not be possible with saving. Therefore you could try using moviepy"
   ]
  },
  {
   "cell_type": "code",
   "execution_count": null,
   "id": "dbc5efd8",
   "metadata": {},
   "outputs": [],
   "source": [
    "# first save audio clip\\"
   ]
  },
  {
   "cell_type": "code",
   "execution_count": null,
   "id": "c1ed8047",
   "metadata": {},
   "outputs": [],
   "source": [
    "from moviepy.editor import *"
   ]
  },
  {
   "cell_type": "code",
   "execution_count": null,
   "id": "2e29629f",
   "metadata": {},
   "outputs": [],
   "source": [
    "### Import saved video \n",
    "videoclip = VideoFileClip(\"test.mp4\")"
   ]
  },
  {
   "cell_type": "code",
   "execution_count": null,
   "id": "e749376e",
   "metadata": {},
   "outputs": [],
   "source": [
    "### Import audio\n",
    "audioclip = AudioFileClip(\"test_audio.wav\")"
   ]
  },
  {
   "cell_type": "code",
   "execution_count": null,
   "id": "1a5fb3d6",
   "metadata": {},
   "outputs": [],
   "source": [
    "videoclip2 = videoclip.set_audio(audioclip)"
   ]
  },
  {
   "cell_type": "code",
   "execution_count": null,
   "id": "e8e13c5a",
   "metadata": {},
   "outputs": [],
   "source": [
    "videoclip2.write_videofile(\"test2.mp4\", fps = 24, codec = 'mpeg4')"
   ]
  },
  {
   "cell_type": "code",
   "execution_count": null,
   "id": "b65bb6a4",
   "metadata": {},
   "outputs": [],
   "source": [
    "videoclip.duration\n"
   ]
  }
 ],
 "metadata": {
  "kernelspec": {
   "display_name": "Python 3 (Spyder)",
   "language": "python3",
   "name": "python3"
  },
  "language_info": {
   "codemirror_mode": {
    "name": "ipython",
    "version": 3
   },
   "file_extension": ".py",
   "mimetype": "text/x-python",
   "name": "python",
   "nbconvert_exporter": "python",
   "pygments_lexer": "ipython3",
   "version": "3.8.5"
  }
 },
 "nbformat": 4,
 "nbformat_minor": 5
}
